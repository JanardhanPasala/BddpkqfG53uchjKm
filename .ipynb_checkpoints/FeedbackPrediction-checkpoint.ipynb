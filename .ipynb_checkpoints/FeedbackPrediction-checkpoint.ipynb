{
 "cells": [
  {
   "cell_type": "markdown",
   "metadata": {},
   "source": [
    "https://go.apziva.com/project/detail/2/"
   ]
  },
  {
   "cell_type": "raw",
   "metadata": {},
   "source": [
    "Background:\n",
    "\n",
    "ACME is one of the fastest growing startups in the logistics and delivery domain. We work with several partners and make on-demand delivery to our customers. During the COVID-19 pandemic, we are facing several different challenges and everyday we are trying to address these challenges.\n",
    "\n",
    "At ACME we thrive for making our customers happy. As a growing startup, with a global expansion strategy we know that we need to make our customers happy and the only way to do that is to measure how happy each customer is. If we can predict what makes our customers happy or unhappy, we can then take necessary actions.\n",
    "\n",
    "Getting feedback from customers is not easy either, but we do our best to get constant feedback from our customers. This is a crucial function to improve our operations across all levels.\n",
    "\n",
    "We recently did a survey to a select customer cohort. You are presented with a subset of this data. We will be using the remaining data as a private test set.\n",
    "\n",
    "Data Description:\n",
    "\n",
    "Y = target attribute (Y) with values indicating 0 (unhappy) and 1 (happy) customers\n",
    "X1 = my order was delivered on time\n",
    "X2 = contents of my order was as I expected\n",
    "X3 = I ordered everything I wanted to order\n",
    "X4 = I paid a good price for my order\n",
    "X5 = I am satisfied with my courier\n",
    "X6 = the app makes ordering easy for me\n",
    "\n",
    "Attributes X1 to X6 indicate the responses for each question and have values from 1 to 5 where the smaller number indicates less and the higher number indicates more towards the answer.\n",
    "\n",
    "Download Data:\n",
    "\n",
    "https://drive.google.com/open?id=1KWE3J0uU_sFIJnZ74Id3FDBcejELI7FD\n",
    "\n",
    "Goal(s):\n",
    "\n",
    "Predict if a customer is happy or not based on the answers they give to questions asked.\n",
    "\n",
    "Success Metrics:\n",
    "\n",
    "Reach 73% accuracy score or above, or convince us why your solution is superior. We are definitely interested in every solution and insight you can provide us.\n",
    "\n",
    "Try to submit your working solution as soon as possible. The sooner the better.\n",
    "\n",
    "Bonus(es):\n",
    "\n",
    "We are very interested in finding which questions/features are more important when predicting a customer’s happiness. Using a feature selection approach show us understand what is the minimal set of attributes/features that would preserve the most information about the problem while increasing predictability of the data we have. Is there any question that we can remove in our next survey?\n",
    "\n",
    "Submission Instructions:\n",
    "Project should be implemented with Python\n",
    "Please name your repository on GitHub with this name without exposing your project information: BddpkqfG53uchjKm\n"
   ]
  },
  {
   "cell_type": "code",
   "execution_count": 141,
   "metadata": {},
   "outputs": [
    {
     "data": {
      "text/plain": [
       "['.ipynb_checkpoints',\n",
       " 'ACME-HappinessSurvey2020.csv',\n",
       " 'catboost_info',\n",
       " 'FeedbackPrediction.ipynb']"
      ]
     },
     "execution_count": 141,
     "metadata": {},
     "output_type": "execute_result"
    }
   ],
   "source": [
    "import os\n",
    "\n",
    "os.listdir()"
   ]
  },
  {
   "cell_type": "code",
   "execution_count": 142,
   "metadata": {},
   "outputs": [
    {
     "data": {
      "text/plain": [
       "(126, 7)"
      ]
     },
     "execution_count": 142,
     "metadata": {},
     "output_type": "execute_result"
    }
   ],
   "source": [
    "import pandas as pd\n",
    "\n",
    "train_data = pd.read_csv(\"ACME-HappinessSurvey2020.csv\")\n",
    "train_data.shape"
   ]
  },
  {
   "cell_type": "code",
   "execution_count": 144,
   "metadata": {},
   "outputs": [],
   "source": [
    "train_data_copy = train_data.copy()"
   ]
  },
  {
   "cell_type": "code",
   "execution_count": 110,
   "metadata": {},
   "outputs": [
    {
     "name": "stdout",
     "output_type": "stream",
     "text": [
      "<class 'pandas.core.frame.DataFrame'>\n",
      "RangeIndex: 126 entries, 0 to 125\n",
      "Data columns (total 7 columns):\n",
      " #   Column  Non-Null Count  Dtype\n",
      "---  ------  --------------  -----\n",
      " 0   Y       126 non-null    int64\n",
      " 1   X1      126 non-null    int64\n",
      " 2   X2      126 non-null    int64\n",
      " 3   X3      126 non-null    int64\n",
      " 4   X4      126 non-null    int64\n",
      " 5   X5      126 non-null    int64\n",
      " 6   X6      126 non-null    int64\n",
      "dtypes: int64(7)\n",
      "memory usage: 7.0 KB\n"
     ]
    }
   ],
   "source": [
    "train_data.info()"
   ]
  },
  {
   "cell_type": "code",
   "execution_count": 111,
   "metadata": {},
   "outputs": [
    {
     "data": {
      "text/html": [
       "<div>\n",
       "<style scoped>\n",
       "    .dataframe tbody tr th:only-of-type {\n",
       "        vertical-align: middle;\n",
       "    }\n",
       "\n",
       "    .dataframe tbody tr th {\n",
       "        vertical-align: top;\n",
       "    }\n",
       "\n",
       "    .dataframe thead th {\n",
       "        text-align: right;\n",
       "    }\n",
       "</style>\n",
       "<table border=\"1\" class=\"dataframe\">\n",
       "  <thead>\n",
       "    <tr style=\"text-align: right;\">\n",
       "      <th></th>\n",
       "      <th>Y</th>\n",
       "      <th>X1</th>\n",
       "      <th>X2</th>\n",
       "      <th>X3</th>\n",
       "      <th>X4</th>\n",
       "      <th>X5</th>\n",
       "      <th>X6</th>\n",
       "    </tr>\n",
       "  </thead>\n",
       "  <tbody>\n",
       "    <tr>\n",
       "      <th>count</th>\n",
       "      <td>126.000000</td>\n",
       "      <td>126.000000</td>\n",
       "      <td>126.000000</td>\n",
       "      <td>126.000000</td>\n",
       "      <td>126.000000</td>\n",
       "      <td>126.000000</td>\n",
       "      <td>126.000000</td>\n",
       "    </tr>\n",
       "    <tr>\n",
       "      <th>mean</th>\n",
       "      <td>0.547619</td>\n",
       "      <td>4.333333</td>\n",
       "      <td>2.531746</td>\n",
       "      <td>3.309524</td>\n",
       "      <td>3.746032</td>\n",
       "      <td>3.650794</td>\n",
       "      <td>4.253968</td>\n",
       "    </tr>\n",
       "    <tr>\n",
       "      <th>std</th>\n",
       "      <td>0.499714</td>\n",
       "      <td>0.800000</td>\n",
       "      <td>1.114892</td>\n",
       "      <td>1.023440</td>\n",
       "      <td>0.875776</td>\n",
       "      <td>1.147641</td>\n",
       "      <td>0.809311</td>\n",
       "    </tr>\n",
       "    <tr>\n",
       "      <th>min</th>\n",
       "      <td>0.000000</td>\n",
       "      <td>1.000000</td>\n",
       "      <td>1.000000</td>\n",
       "      <td>1.000000</td>\n",
       "      <td>1.000000</td>\n",
       "      <td>1.000000</td>\n",
       "      <td>1.000000</td>\n",
       "    </tr>\n",
       "    <tr>\n",
       "      <th>25%</th>\n",
       "      <td>0.000000</td>\n",
       "      <td>4.000000</td>\n",
       "      <td>2.000000</td>\n",
       "      <td>3.000000</td>\n",
       "      <td>3.000000</td>\n",
       "      <td>3.000000</td>\n",
       "      <td>4.000000</td>\n",
       "    </tr>\n",
       "    <tr>\n",
       "      <th>50%</th>\n",
       "      <td>1.000000</td>\n",
       "      <td>5.000000</td>\n",
       "      <td>3.000000</td>\n",
       "      <td>3.000000</td>\n",
       "      <td>4.000000</td>\n",
       "      <td>4.000000</td>\n",
       "      <td>4.000000</td>\n",
       "    </tr>\n",
       "    <tr>\n",
       "      <th>75%</th>\n",
       "      <td>1.000000</td>\n",
       "      <td>5.000000</td>\n",
       "      <td>3.000000</td>\n",
       "      <td>4.000000</td>\n",
       "      <td>4.000000</td>\n",
       "      <td>4.000000</td>\n",
       "      <td>5.000000</td>\n",
       "    </tr>\n",
       "    <tr>\n",
       "      <th>max</th>\n",
       "      <td>1.000000</td>\n",
       "      <td>5.000000</td>\n",
       "      <td>5.000000</td>\n",
       "      <td>5.000000</td>\n",
       "      <td>5.000000</td>\n",
       "      <td>5.000000</td>\n",
       "      <td>5.000000</td>\n",
       "    </tr>\n",
       "  </tbody>\n",
       "</table>\n",
       "</div>"
      ],
      "text/plain": [
       "                Y          X1          X2          X3          X4          X5          X6\n",
       "count  126.000000  126.000000  126.000000  126.000000  126.000000  126.000000  126.000000\n",
       "mean     0.547619    4.333333    2.531746    3.309524    3.746032    3.650794    4.253968\n",
       "std      0.499714    0.800000    1.114892    1.023440    0.875776    1.147641    0.809311\n",
       "min      0.000000    1.000000    1.000000    1.000000    1.000000    1.000000    1.000000\n",
       "25%      0.000000    4.000000    2.000000    3.000000    3.000000    3.000000    4.000000\n",
       "50%      1.000000    5.000000    3.000000    3.000000    4.000000    4.000000    4.000000\n",
       "75%      1.000000    5.000000    3.000000    4.000000    4.000000    4.000000    5.000000\n",
       "max      1.000000    5.000000    5.000000    5.000000    5.000000    5.000000    5.000000"
      ]
     },
     "execution_count": 111,
     "metadata": {},
     "output_type": "execute_result"
    }
   ],
   "source": [
    "train_data.describe()"
   ]
  },
  {
   "cell_type": "code",
   "execution_count": 112,
   "metadata": {},
   "outputs": [
    {
     "data": {
      "text/plain": [
       "Y     1.000000\n",
       "X1    0.280160\n",
       "X2   -0.024274\n",
       "X3    0.150838\n",
       "X4    0.064415\n",
       "X5    0.224522\n",
       "X6    0.167669\n",
       "dtype: float64"
      ]
     },
     "execution_count": 112,
     "metadata": {},
     "output_type": "execute_result"
    }
   ],
   "source": [
    "train_data.corrwith(train_data.Y)"
   ]
  },
  {
   "cell_type": "code",
   "execution_count": 113,
   "metadata": {},
   "outputs": [
    {
     "data": {
      "text/plain": [
       "Y     2\n",
       "X1    4\n",
       "X2    5\n",
       "X3    5\n",
       "X4    5\n",
       "X5    5\n",
       "X6    5\n",
       "dtype: int64"
      ]
     },
     "execution_count": 113,
     "metadata": {},
     "output_type": "execute_result"
    }
   ],
   "source": [
    "train_data.nunique()"
   ]
  },
  {
   "cell_type": "code",
   "execution_count": 114,
   "metadata": {},
   "outputs": [
    {
     "data": {
      "text/plain": [
       "Y     0\n",
       "X1    0\n",
       "X2    0\n",
       "X3    0\n",
       "X4    0\n",
       "X5    0\n",
       "X6    0\n",
       "dtype: int64"
      ]
     },
     "execution_count": 114,
     "metadata": {},
     "output_type": "execute_result"
    }
   ],
   "source": [
    "train_data.isnull().sum()"
   ]
  },
  {
   "cell_type": "code",
   "execution_count": 115,
   "metadata": {},
   "outputs": [
    {
     "data": {
      "text/plain": [
       "1    69\n",
       "0    57\n",
       "Name: Y, dtype: int64"
      ]
     },
     "execution_count": 115,
     "metadata": {},
     "output_type": "execute_result"
    }
   ],
   "source": [
    "train_data.Y.value_counts()"
   ]
  },
  {
   "cell_type": "code",
   "execution_count": 116,
   "metadata": {},
   "outputs": [
    {
     "name": "stdout",
     "output_type": "stream",
     "text": [
      "Found 54.76 percent of class-1 and 45.24 percent of class-0 data out of 126 records\n"
     ]
    }
   ],
   "source": [
    "import numpy as np\n",
    "\n",
    "class1_per = np.round(69/(69+57)*100,2)\n",
    "class2_per = 100-class1_per\n",
    "print(\"Found {} percent of class-1 and {} percent of class-0 data out of {} records\".format(class1_per, class2_per, train_data.shape[0]))"
   ]
  },
  {
   "cell_type": "markdown",
   "metadata": {},
   "source": [
    "The given data set was almost balanced w.r.t target feture Y"
   ]
  },
  {
   "cell_type": "code",
   "execution_count": 197,
   "metadata": {},
   "outputs": [
    {
     "data": {
      "text/plain": [
       "((94, 6), (94,), (32, 6), (32,))"
      ]
     },
     "execution_count": 197,
     "metadata": {},
     "output_type": "execute_result"
    }
   ],
   "source": [
    "from sklearn.model_selection import train_test_split\n",
    "\n",
    "y = train_data.Y.values\n",
    "train_data.drop(columns=['Y'], inplace=True)\n",
    "train_x, cv_x, train_y, cv_y = train_test_split(train_data, y, test_size=0.25, stratify=y, random_state=0)\n",
    "train_x.shape, train_y.shape, cv_x.shape, cv_y.shape"
   ]
  },
  {
   "cell_type": "code",
   "execution_count": 118,
   "metadata": {},
   "outputs": [
    {
     "data": {
      "text/plain": [
       "((126, 6), (126, 7))"
      ]
     },
     "execution_count": 118,
     "metadata": {},
     "output_type": "execute_result"
    }
   ],
   "source": [
    "train_data.shape, trian_data_copy.shape"
   ]
  },
  {
   "cell_type": "code",
   "execution_count": 121,
   "metadata": {},
   "outputs": [
    {
     "name": "stderr",
     "output_type": "stream",
     "text": [
      "100%|█████████████████████████████████████████████████████████████████████████████████████████████████████████████████████████████████████████████████████████████████████████████| 23/23 [00:00<00:00, 23.65it/s]\n"
     ]
    },
    {
     "data": {
      "text/plain": [
       "{'1-uniform': {'train accuracy': 0.96, 'cv accuracy': 0.66},\n",
       " '1-distance': {'train accuracy': 0.96, 'cv accuracy': 0.66},\n",
       " '3-uniform': {'train accuracy': 0.77, 'cv accuracy': 0.53},\n",
       " '3-distance': {'train accuracy': 0.96, 'cv accuracy': 0.53},\n",
       " '5-uniform': {'train accuracy': 0.68, 'cv accuracy': 0.56},\n",
       " '5-distance': {'train accuracy': 0.96, 'cv accuracy': 0.56},\n",
       " '7-uniform': {'train accuracy': 0.63, 'cv accuracy': 0.59},\n",
       " '7-distance': {'train accuracy': 0.96, 'cv accuracy': 0.56},\n",
       " '9-uniform': {'train accuracy': 0.66, 'cv accuracy': 0.56},\n",
       " '9-distance': {'train accuracy': 0.96, 'cv accuracy': 0.56},\n",
       " '11-uniform': {'train accuracy': 0.6, 'cv accuracy': 0.59},\n",
       " '11-distance': {'train accuracy': 0.96, 'cv accuracy': 0.62},\n",
       " '13-uniform': {'train accuracy': 0.63, 'cv accuracy': 0.59},\n",
       " '13-distance': {'train accuracy': 0.96, 'cv accuracy': 0.62},\n",
       " '15-uniform': {'train accuracy': 0.56, 'cv accuracy': 0.62},\n",
       " '15-distance': {'train accuracy': 0.96, 'cv accuracy': 0.66},\n",
       " '17-uniform': {'train accuracy': 0.64, 'cv accuracy': 0.59},\n",
       " '17-distance': {'train accuracy': 0.96, 'cv accuracy': 0.66},\n",
       " '19-uniform': {'train accuracy': 0.6, 'cv accuracy': 0.56},\n",
       " '19-distance': {'train accuracy': 0.96, 'cv accuracy': 0.66},\n",
       " '21-uniform': {'train accuracy': 0.62, 'cv accuracy': 0.56},\n",
       " '21-distance': {'train accuracy': 0.96, 'cv accuracy': 0.66},\n",
       " '23-uniform': {'train accuracy': 0.59, 'cv accuracy': 0.56},\n",
       " '23-distance': {'train accuracy': 0.96, 'cv accuracy': 0.66},\n",
       " '25-uniform': {'train accuracy': 0.63, 'cv accuracy': 0.62},\n",
       " '25-distance': {'train accuracy': 0.96, 'cv accuracy': 0.69},\n",
       " '27-uniform': {'train accuracy': 0.6, 'cv accuracy': 0.59},\n",
       " '27-distance': {'train accuracy': 0.96, 'cv accuracy': 0.66},\n",
       " '29-uniform': {'train accuracy': 0.57, 'cv accuracy': 0.59},\n",
       " '29-distance': {'train accuracy': 0.96, 'cv accuracy': 0.62},\n",
       " '31-uniform': {'train accuracy': 0.59, 'cv accuracy': 0.62},\n",
       " '31-distance': {'train accuracy': 0.96, 'cv accuracy': 0.69},\n",
       " '33-uniform': {'train accuracy': 0.6, 'cv accuracy': 0.66},\n",
       " '33-distance': {'train accuracy': 0.96, 'cv accuracy': 0.69},\n",
       " '35-uniform': {'train accuracy': 0.57, 'cv accuracy': 0.62},\n",
       " '35-distance': {'train accuracy': 0.96, 'cv accuracy': 0.69},\n",
       " '37-uniform': {'train accuracy': 0.6, 'cv accuracy': 0.62},\n",
       " '37-distance': {'train accuracy': 0.96, 'cv accuracy': 0.69},\n",
       " '39-uniform': {'train accuracy': 0.57, 'cv accuracy': 0.62},\n",
       " '39-distance': {'train accuracy': 0.96, 'cv accuracy': 0.66},\n",
       " '41-uniform': {'train accuracy': 0.6, 'cv accuracy': 0.66},\n",
       " '41-distance': {'train accuracy': 0.96, 'cv accuracy': 0.69},\n",
       " '43-uniform': {'train accuracy': 0.62, 'cv accuracy': 0.59},\n",
       " '43-distance': {'train accuracy': 0.96, 'cv accuracy': 0.66},\n",
       " '45-uniform': {'train accuracy': 0.6, 'cv accuracy': 0.62},\n",
       " '45-distance': {'train accuracy': 0.96, 'cv accuracy': 0.66}}"
      ]
     },
     "execution_count": 121,
     "metadata": {},
     "output_type": "execute_result"
    }
   ],
   "source": [
    "from sklearn.neighbors import KNeighborsClassifier\n",
    "from sklearn.metrics import accuracy_score\n",
    "from tqdm import tqdm\n",
    "\n",
    "dict_obserations = {}\n",
    "for neighbors in tqdm(range(1, 46, 2)):\n",
    "#     dict_obserations['neighbors'] = neighbors\n",
    "    for weights in ['uniform', 'distance']:\n",
    "        classifier = KNeighborsClassifier(n_neighbors=neighbors, weights=weights, n_jobs=-1)\n",
    "        classifier.fit(train_x, train_y)\n",
    "        train_y_predictions = classifier.predict(train_x)\n",
    "        cv_y_predicitons = classifier.predict(cv_x)\n",
    "        train_accuracy = np.round(accuracy_score(train_y, train_y_predictions),2)\n",
    "        cv_accuracy = np.round(accuracy_score(cv_y, cv_y_predicitons),2)\n",
    "        key = str(neighbors) + \"-\" + weights\n",
    "        dict_obserations[key] = {\"train accuracy\":train_accuracy, \"cv accuracy\":cv_accuracy}\n",
    "dict_obserations"
   ]
  },
  {
   "cell_type": "code",
   "execution_count": 129,
   "metadata": {},
   "outputs": [
    {
     "data": {
      "text/plain": [
       "(0.96, 0.69)"
      ]
     },
     "execution_count": 129,
     "metadata": {},
     "output_type": "execute_result"
    }
   ],
   "source": [
    "from sklearn.ensemble import RandomForestClassifier\n",
    "classifier = RandomForestClassifier(n_jobs=-1)\n",
    "classifier.fit(train_x, train_y)\n",
    "train_y_predictions = classifier.predict(train_x)\n",
    "cv_y_predicitons = classifier.predict(cv_x)\n",
    "train_accuracy = np.round(accuracy_score(train_y, train_y_predictions),2)\n",
    "cv_accuracy = np.round(accuracy_score(cv_y, cv_y_predicitons),2)\n",
    "train_accuracy, cv_accuracy"
   ]
  },
  {
   "cell_type": "markdown",
   "metadata": {},
   "source": [
    "Feature Selection"
   ]
  },
  {
   "cell_type": "code",
   "execution_count": 136,
   "metadata": {},
   "outputs": [
    {
     "name": "stdout",
     "output_type": "stream",
     "text": [
      "5    65\n",
      "4    40\n",
      "3    20\n",
      "1     1\n",
      "Name: X1, dtype: int64\n",
      "3    42\n",
      "2    34\n",
      "1    27\n",
      "4    17\n",
      "5     6\n",
      "Name: X2, dtype: int64\n",
      "3    55\n",
      "4    33\n",
      "5    17\n",
      "2    14\n",
      "1     7\n",
      "Name: X3, dtype: int64\n",
      "4    53\n",
      "3    41\n",
      "5    25\n",
      "2     5\n",
      "1     2\n",
      "Name: X4, dtype: int64\n",
      "4    50\n",
      "5    31\n",
      "3    22\n",
      "2    16\n",
      "1     7\n",
      "Name: X5, dtype: int64\n",
      "5    57\n",
      "4    47\n",
      "3    20\n",
      "2     1\n",
      "1     1\n",
      "Name: X6, dtype: int64\n"
     ]
    }
   ],
   "source": [
    "for column in train_data.columns:\n",
    "    print(train_data[column].value_counts())"
   ]
  },
  {
   "cell_type": "code",
   "execution_count": 149,
   "metadata": {
    "scrolled": false
   },
   "outputs": [
    {
     "data": {
      "image/png": "[encoded data removed]",
      "text/plain": [
       "<Figure size 432x288 with 1 Axes>"
      ]
     },
     "metadata": {
      "needs_background": "light"
     },
     "output_type": "display_data"
    },
    {
     "data": {
      "image/png": "[encoded data removed]",
      "text/plain": [
       "<Figure size 432x288 with 1 Axes>"
      ]
     },
     "metadata": {
      "needs_background": "light"
     },
     "output_type": "display_data"
    },
    {
     "data": {
      "image/png": "[encoded data removed]",
      "text/plain": [
       "<Figure size 432x288 with 1 Axes>"
      ]
     },
     "metadata": {
      "needs_background": "light"
     },
     "output_type": "display_data"
    },
    {
     "data": {
      "image/png": "[encoded data removed]",
      "text/plain": [
       "<Figure size 432x288 with 1 Axes>"
      ]
     },
     "metadata": {
      "needs_background": "light"
     },
     "output_type": "display_data"
    },
    {
     "data": {
      "image/png": "[encoded data removed]",
      "text/plain": [
       "<Figure size 432x288 with 1 Axes>"
      ]
     },
     "metadata": {
      "needs_background": "light"
     },
     "output_type": "display_data"
    },
    {
     "data": {
      "image/png": "[encoded data removed]",
      "text/plain": [
       "<Figure size 432x288 with 1 Axes>"
      ]
     },
     "metadata": {
      "needs_background": "light"
     },
     "output_type": "display_data"
    },
    {
     "data": {
      "image/png": "[encoded data removed]",
      "text/plain": [
       "<Figure size 432x288 with 1 Axes>"
      ]
     },
     "metadata": {
      "needs_background": "light"
     },
     "output_type": "display_data"
    }
   ],
   "source": [
    "import seaborn as sb\n",
    "import matplotlib.pyplot as plt\n",
    "\n",
    "for column in train_data_copy.columns:\n",
    "    sb.countplot(x=column, data=train_data_copy, hue=\"Y\")\n",
    "    plt.show()"
   ]
  },
  {
   "cell_type": "code",
   "execution_count": 150,
   "metadata": {},
   "outputs": [
    {
     "data": {
      "text/plain": [
       "Y     1.000000\n",
       "X1    0.280160\n",
       "X2   -0.024274\n",
       "X3    0.150838\n",
       "X4    0.064415\n",
       "X5    0.224522\n",
       "X6    0.167669\n",
       "dtype: float64"
      ]
     },
     "execution_count": 150,
     "metadata": {},
     "output_type": "execute_result"
    }
   ],
   "source": [
    "train_data_copy.corrwith(train_data_copy.Y)"
   ]
  },
  {
   "cell_type": "markdown",
   "metadata": {},
   "source": [
    "Observations:\n",
    "\n",
    "General Trend refers to the happy customers dominates unhappy customers while increasing the rating from 1-5, and the converse would be applicable for the rating decreases from 5-1.\n",
    "\n",
    "1. X1 - General trend we got for measurement - my order got delivered on time.\n",
    "2. X2 - The trend was just weird, and not acceptable since on the scale of 1-5 for the measure \"contents of my order were as I expected\" we got opposite of General Trend except for the rating 5. It seems(following my assumption), Mostly the content got delivered as they expected. But they might select the value with their comfort, which is near to their fingertips.\n",
    "3. X3 - Yeah, We got The General Trend for the measure - I ordered everything I wanted to order.\n",
    "4. X4 - We got General Trend from the ratings 2-5, but It's impossible to felt happy even if they felt unhappy with the price paid.\n",
    "5. X5 - Yeah, We got The General Trend for the measure - I am satisfied with my courier.\n",
    "6. X6 - The measure \"the app makes ordering easy for me\" follows mostly the trend as like X4."
   ]
  },
  {
   "cell_type": "markdown",
   "metadata": {},
   "source": [
    "### Feature Selection\n",
    "https://www.analyticsvidhya.com/blog/2020/10/feature-selection-techniques-in-machine-learning/\n",
    "\n",
    "https://machinelearningmastery.com/feature-selection-with-real-and-categorical-data/"
   ]
  },
  {
   "cell_type": "markdown",
   "metadata": {},
   "source": [
    "#### Correlation"
   ]
  },
  {
   "cell_type": "code",
   "execution_count": 207,
   "metadata": {},
   "outputs": [
    {
     "data": {
      "image/png": "[encoded data removed]",
      "text/plain": [
       "<Figure size 432x288 with 2 Axes>"
      ]
     },
     "metadata": {
      "needs_background": "light"
     },
     "output_type": "display_data"
    }
   ],
   "source": [
    "corr = train_data.corr()\n",
    "sb.heatmap(corr, annot=True)\n",
    "plt.show()"
   ]
  },
  {
   "cell_type": "code",
   "execution_count": 213,
   "metadata": {},
   "outputs": [
    {
     "data": {
      "text/plain": [
       "X1    0.280160\n",
       "X2   -0.024274\n",
       "X3    0.150838\n",
       "X4    0.064415\n",
       "X5    0.224522\n",
       "X6    0.167669\n",
       "dtype: float64"
      ]
     },
     "execution_count": 213,
     "metadata": {},
     "output_type": "execute_result"
    }
   ],
   "source": [
    "train_data.corrwith(train_data_copy.Y)"
   ]
  },
  {
   "cell_type": "markdown",
   "metadata": {},
   "source": [
    "Observations:\n",
    "\n",
    "1. X1 correlates best with the target variable among all features - so we could give X1 as our highest priority feature\n",
    "2. X1 correlates best with X5 among all independent features - If we select X1, we have to give the least priority to X5. However, even x5 correlates best with the target variable.\n",
    "3. X2 and X4 correlation coefficients values are too small with the target variable, so these features may not add much value for predicting the target variable\n",
    "\n",
    "Conclusions:\n",
    "1. If we perform model building with linear-algorithms we have to consider X1, X2, X3, X4, and X6\n",
    "2. If we perform model building with a non-linear algorithm, we have to consider X1, X3, X5, and X6"
   ]
  },
  {
   "cell_type": "code",
   "execution_count": 225,
   "metadata": {},
   "outputs": [
    {
     "name": "stdout",
     "output_type": "stream",
     "text": [
      "X1 1.0484819825145109\n",
      "X2 0.27900793742802593\n",
      "X3 0.23577064116606064\n",
      "X4 0.06502764879289419\n",
      "X5 1.314476543011187\n",
      "X6 0.9365831975107419\n"
     ]
    }
   ],
   "source": [
    "# https://machinelearningmastery.com/feature-selection-with-categorical-data/\n",
    "\n",
    "from sklearn.feature_selection import SelectKBest\n",
    "from sklearn.feature_selection import chi2\n",
    "\n",
    "fs = SelectKBest(score_func=chi2, k='all')\n",
    "fs.fit(train_x, train_y)\n",
    "# train_fs = fs.transform(train_x)\n",
    "# cv_fs = fs.transform(cv_x)\n",
    "for feature, score in zip(feature_names, fs.scores_):\n",
    "    print(feature, score)"
   ]
  },
  {
   "cell_type": "markdown",
   "metadata": {},
   "source": [
    "Here, X4 can be removed"
   ]
  },
  {
   "cell_type": "code",
   "execution_count": 226,
   "metadata": {},
   "outputs": [
    {
     "name": "stdout",
     "output_type": "stream",
     "text": [
      "X1 0.07674980005176057\n",
      "X2 0.0077064511742435116\n",
      "X3 0.022872098348652115\n",
      "X4 0.021298680457962238\n",
      "X5 0.0\n",
      "X6 0.03275557462762224\n"
     ]
    }
   ],
   "source": [
    "from sklearn.feature_selection import mutual_info_classif\n",
    "\n",
    "fs = SelectKBest(score_func=mutual_info_classif, k='all')\n",
    "fs.fit(train_x, train_y)\n",
    "for feature, score in zip(feature_names, fs.scores_):\n",
    "    print(feature, score)"
   ]
  },
  {
   "cell_type": "markdown",
   "metadata": {},
   "source": [
    "X2 and X5 can be removed"
   ]
  },
  {
   "cell_type": "code",
   "execution_count": 228,
   "metadata": {},
   "outputs": [
    {
     "name": "stdout",
     "output_type": "stream",
     "text": [
      "Accuracy on Train:0.62 and CV:0.53\n"
     ]
    }
   ],
   "source": [
    "from sklearn.linear_model import LogisticRegression\n",
    "\n",
    "classfier = LogisticRegression()\n",
    "classfier.fit(train_x, train_y)\n",
    "train_y_predictions = classfier.predict(train_x)\n",
    "cv_y_predictions = classfier.predict(cv_x)\n",
    "train_accuracy = np.round(accuracy_score(train_y, train_y_predictions), 2)\n",
    "cv_accuracy = np.round(accuracy_score(cv_y, cv_y_predictions), 2)\n",
    "print(\"Accuracy on Train:{} and CV:{}\".format(train_accuracy, cv_accuracy))"
   ]
  },
  {
   "cell_type": "code",
   "execution_count": 235,
   "metadata": {},
   "outputs": [],
   "source": [
    "# train_x.loc[:,:'X4']"
   ]
  },
  {
   "cell_type": "code",
   "execution_count": 239,
   "metadata": {},
   "outputs": [
    {
     "name": "stdout",
     "output_type": "stream",
     "text": [
      "Accuracy on Train:0.6 and CV:0.56\n"
     ]
    }
   ],
   "source": [
    "classfier = LogisticRegression()\n",
    "classfier.fit(train_x.loc[:,:'X4'], train_y)\n",
    "train_y_predictions = classfier.predict(train_x.loc[:,:'X4'])\n",
    "cv_y_predictions = classfier.predict(cv_x.loc[:,:'X4'])\n",
    "train_accuracy = np.round(accuracy_score(train_y, train_y_predictions), 2)\n",
    "cv_accuracy = np.round(accuracy_score(cv_y, cv_y_predictions), 2)\n",
    "print(\"Accuracy on Train:{} and CV:{}\".format(train_accuracy, cv_accuracy))"
   ]
  },
  {
   "cell_type": "code",
   "execution_count": 247,
   "metadata": {},
   "outputs": [
    {
     "name": "stdout",
     "output_type": "stream",
     "text": [
      "Accuracy on Train:0.62 and CV:0.5\n"
     ]
    }
   ],
   "source": [
    "classfier = LogisticRegression()\n",
    "classfier.fit(train_x.loc[:,['X1', 'X3', 'X4', 'X6']], train_y)\n",
    "train_y_predictions = classfier.predict(train_x.loc[:,['X1', 'X3', 'X4', 'X6']])\n",
    "cv_y_predictions = classfier.predict(cv_x.loc[:,['X1', 'X3', 'X4', 'X6']])\n",
    "train_accuracy = np.round(accuracy_score(train_y, train_y_predictions), 2)\n",
    "cv_accuracy = np.round(accuracy_score(cv_y, cv_y_predictions), 2)\n",
    "print(\"Accuracy on Train:{} and CV:{}\".format(train_accuracy, cv_accuracy))"
   ]
  },
  {
   "cell_type": "code",
   "execution_count": 248,
   "metadata": {},
   "outputs": [
    {
     "name": "stdout",
     "output_type": "stream",
     "text": [
      "Accuracy on Train:0.69 and CV:0.56\n"
     ]
    }
   ],
   "source": [
    "from sklearn.svm import SVC\n",
    "\n",
    "classfier = SVC()\n",
    "classfier.fit(train_x.loc[:,['X1', 'X3', 'X4', 'X6']], train_y)\n",
    "train_y_predictions = classfier.predict(train_x.loc[:,['X1', 'X3', 'X4', 'X6']])\n",
    "cv_y_predictions = classfier.predict(cv_x.loc[:,['X1', 'X3', 'X4', 'X6']])\n",
    "train_accuracy = np.round(accuracy_score(train_y, train_y_predictions), 2)\n",
    "cv_accuracy = np.round(accuracy_score(cv_y, cv_y_predictions), 2)\n",
    "print(\"Accuracy on Train:{} and CV:{}\".format(train_accuracy, cv_accuracy))"
   ]
  },
  {
   "cell_type": "code",
   "execution_count": 249,
   "metadata": {},
   "outputs": [
    {
     "name": "stdout",
     "output_type": "stream",
     "text": [
      "Accuracy on Train:0.73 and CV:0.5\n"
     ]
    }
   ],
   "source": [
    "classfier = SVC()\n",
    "classfier.fit(train_x.loc[:,:'X4'], train_y)\n",
    "train_y_predictions = classfier.predict(train_x.loc[:,:'X4'])\n",
    "cv_y_predictions = classfier.predict(cv_x.loc[:,:'X4'])\n",
    "train_accuracy = np.round(accuracy_score(train_y, train_y_predictions), 2)\n",
    "cv_accuracy = np.round(accuracy_score(cv_y, cv_y_predictions), 2)\n",
    "print(\"Accuracy on Train:{} and CV:{}\".format(train_accuracy, cv_accuracy))"
   ]
  },
  {
   "cell_type": "code",
   "execution_count": 267,
   "metadata": {},
   "outputs": [
    {
     "name": "stdout",
     "output_type": "stream",
     "text": [
      "Accuracy on Train:0.87 and CV:0.62\n"
     ]
    }
   ],
   "source": [
    "from sklearn.ensemble import RandomForestClassifier\n",
    "\n",
    "classfier = RandomForestClassifier()\n",
    "classfier.fit(train_x.loc[:,:'X4'], train_y)\n",
    "train_y_predictions = classfier.predict(train_x.loc[:,:'X4'])\n",
    "cv_y_predictions = classfier.predict(cv_x.loc[:,:'X4'])\n",
    "train_accuracy = np.round(accuracy_score(train_y, train_y_predictions), 2)\n",
    "cv_accuracy = np.round(accuracy_score(cv_y, cv_y_predictions), 2)\n",
    "print(\"Accuracy on Train:{} and CV:{}\".format(train_accuracy, cv_accuracy))"
   ]
  },
  {
   "cell_type": "code",
   "execution_count": 274,
   "metadata": {},
   "outputs": [
    {
     "name": "stdout",
     "output_type": "stream",
     "text": [
      "Accuracy on Train:0.87 and CV:0.75\n"
     ]
    }
   ],
   "source": [
    "classfier = RandomForestClassifier()\n",
    "classfier.fit(train_x.loc[:,['X1', 'X3', 'X4', 'X6']], train_y)\n",
    "train_y_predictions = classfier.predict(train_x.loc[:,['X1', 'X3', 'X4', 'X6']])\n",
    "cv_y_predictions = classfier.predict(cv_x.loc[:,['X1', 'X3', 'X4', 'X6']])\n",
    "train_accuracy = np.round(accuracy_score(train_y, train_y_predictions), 2)\n",
    "cv_accuracy = np.round(accuracy_score(cv_y, cv_y_predictions), 2)\n",
    "print(\"Accuracy on Train:{} and CV:{}\".format(train_accuracy, cv_accuracy))"
   ]
  },
  {
   "cell_type": "code",
   "execution_count": 275,
   "metadata": {},
   "outputs": [
    {
     "name": "stdout",
     "output_type": "stream",
     "text": [
      "Accuracy on Train:0.87 and CV:0.62\n"
     ]
    }
   ],
   "source": [
    "from sklearn.tree import DecisionTreeClassifier\n",
    "\n",
    "classfier = DecisionTreeClassifier()\n",
    "classfier.fit(train_x.loc[:,:'X4'], train_y)\n",
    "train_y_predictions = classfier.predict(train_x.loc[:,:'X4'])\n",
    "cv_y_predictions = classfier.predict(cv_x.loc[:,:'X4'])\n",
    "train_accuracy = np.round(accuracy_score(train_y, train_y_predictions), 2)\n",
    "cv_accuracy = np.round(accuracy_score(cv_y, cv_y_predictions), 2)\n",
    "print(\"Accuracy on Train:{} and CV:{}\".format(train_accuracy, cv_accuracy))"
   ]
  },
  {
   "cell_type": "code",
   "execution_count": 278,
   "metadata": {},
   "outputs": [
    {
     "name": "stdout",
     "output_type": "stream",
     "text": [
      "Accuracy on Train:0.87 and CV:0.78\n"
     ]
    }
   ],
   "source": [
    "classfier = DecisionTreeClassifier()\n",
    "classfier.fit(train_x.loc[:,['X1', 'X3', 'X4', 'X6']], train_y)\n",
    "train_y_predictions = classfier.predict(train_x.loc[:,['X1', 'X3', 'X4', 'X6']])\n",
    "cv_y_predictions = classfier.predict(cv_x.loc[:,['X1', 'X3', 'X4', 'X6']])\n",
    "train_accuracy = np.round(accuracy_score(train_y, train_y_predictions), 2)\n",
    "cv_accuracy = np.round(accuracy_score(cv_y, cv_y_predictions), 2)\n",
    "print(\"Accuracy on Train:{} and CV:{}\".format(train_accuracy, cv_accuracy))"
   ]
  },
  {
   "cell_type": "code",
   "execution_count": null,
   "metadata": {},
   "outputs": [],
   "source": []
  },
  {
   "cell_type": "code",
   "execution_count": null,
   "metadata": {},
   "outputs": [],
   "source": []
  },
  {
   "cell_type": "code",
   "execution_count": null,
   "metadata": {},
   "outputs": [],
   "source": []
  },
  {
   "cell_type": "code",
   "execution_count": null,
   "metadata": {},
   "outputs": [],
   "source": []
  },
  {
   "cell_type": "markdown",
   "metadata": {},
   "source": [
    "#### Univariate Analysis"
   ]
  },
  {
   "cell_type": "code",
   "execution_count": 299,
   "metadata": {},
   "outputs": [
    {
     "data": {
      "image/png": "[encoded data removed]",
      "text/plain": [
       "<Figure size 432x288 with 1 Axes>"
      ]
     },
     "metadata": {
      "needs_background": "light"
     },
     "output_type": "display_data"
    }
   ],
   "source": [
    "ax = sb.countplot(x=\"X1\", data=train_data_copy, hue=\"Y\")\n",
    "plt.ylabel('Frequency')\n",
    "for p in ax.patches:\n",
    "        ax.annotate('{}'.format(p.get_height()), (p.get_x()+0.1, p.get_height()))"
   ]
  },
  {
   "cell_type": "code",
   "execution_count": 310,
   "metadata": {},
   "outputs": [
    {
     "data": {
      "text/plain": [
       "array([100.  ,  60.  ,  60.  ,   0.31])"
      ]
     },
     "execution_count": 310,
     "metadata": {},
     "output_type": "execute_result"
    }
   ],
   "source": [
    "np.round([1/1*100, 12/(12+8)*100, 24/(24+16)*100, 20/(20+45)], 2) # negative feed back percentage for feature X1"
   ]
  },
  {
   "cell_type": "markdown",
   "metadata": {},
   "source": [
    "Since for values 3 and 4, we got 60% of negative feedback, and we got only one record for the value 1, so we can combine them all into one categorical value equal to 134."
   ]
  },
  {
   "cell_type": "code",
   "execution_count": 314,
   "metadata": {},
   "outputs": [],
   "source": [
    "transformed_train_data = pd.DataFrame()\n",
    "transformed_train_data['X1'] = train_data.X1.replace([1,3,4], 134)"
   ]
  },
  {
   "cell_type": "code",
   "execution_count": 315,
   "metadata": {},
   "outputs": [
    {
     "data": {
      "text/plain": [
       "5      65\n",
       "134    61\n",
       "Name: X1, dtype: int64"
      ]
     },
     "execution_count": 315,
     "metadata": {},
     "output_type": "execute_result"
    }
   ],
   "source": [
    "transformed_train_data.X1.value_counts()"
   ]
  },
  {
   "cell_type": "code",
   "execution_count": 319,
   "metadata": {},
   "outputs": [],
   "source": [
    "transformed_train_data['Y'] = train_data_copy.Y"
   ]
  },
  {
   "cell_type": "code",
   "execution_count": 320,
   "metadata": {},
   "outputs": [
    {
     "data": {
      "image/png": "[encoded data removed]",
      "text/plain": [
       "<Figure size 432x288 with 1 Axes>"
      ]
     },
     "metadata": {
      "needs_background": "light"
     },
     "output_type": "display_data"
    }
   ],
   "source": [
    "ax = sb.countplot(x=\"X1\", data=transformed_train_data, hue=\"Y\")\n",
    "plt.ylabel('Frequency')\n",
    "for p in ax.patches:\n",
    "        ax.annotate('{}'.format(p.get_height()), (p.get_x()+0.1, p.get_height()))"
   ]
  },
  {
   "cell_type": "code",
   "execution_count": 323,
   "metadata": {},
   "outputs": [
    {
     "data": {
      "image/png": "[encoded data removed]",
      "text/plain": [
       "<Figure size 432x288 with 1 Axes>"
      ]
     },
     "metadata": {
      "needs_background": "light"
     },
     "output_type": "display_data"
    }
   ],
   "source": [
    "ax = sb.countplot(x=\"X3\", data=train_data_copy, hue=\"Y\")\n",
    "plt.ylabel('Frequency')\n",
    "for p in ax.patches:\n",
    "        ax.annotate('{}'.format(p.get_height()), (p.get_x()+0.1, p.get_height()))"
   ]
  },
  {
   "cell_type": "code",
   "execution_count": 325,
   "metadata": {},
   "outputs": [
    {
     "data": {
      "text/plain": [
       "array([57.14, 50.  , 52.73, 33.33, 35.29])"
      ]
     },
     "execution_count": 325,
     "metadata": {},
     "output_type": "execute_result"
    }
   ],
   "source": [
    "# negative feed back percentage for feature X3\n",
    "np.round([4/(4+3)*100, 7/(7+7)*100, 29/(29+26)*100, 11/(11+22)*100, 6/(6+11)*100], 2)"
   ]
  },
  {
   "cell_type": "markdown",
   "metadata": {},
   "source": [
    "Combining 1, 2, and 3 into one value as 123, and values 4 and 5 into one value as 45."
   ]
  },
  {
   "cell_type": "code",
   "execution_count": 327,
   "metadata": {},
   "outputs": [],
   "source": [
    "transformed_train_data['X3'] = train_data_copy.X3.replace({1:'123', 2:'123', 3:'123', 4:'45', 5:'45'})"
   ]
  },
  {
   "cell_type": "code",
   "execution_count": 330,
   "metadata": {},
   "outputs": [
    {
     "data": {
      "image/png": "[encoded data removed]",
      "text/plain": [
       "<Figure size 432x288 with 1 Axes>"
      ]
     },
     "metadata": {
      "needs_background": "light"
     },
     "output_type": "display_data"
    }
   ],
   "source": [
    "ax = sb.countplot(x=\"X3\", data=transformed_train_data, hue=\"Y\")\n",
    "plt.ylabel('Frequency')\n",
    "for p in ax.patches:\n",
    "        ax.annotate('{}'.format(p.get_height()), (p.get_x()+0.1, p.get_height()))"
   ]
  },
  {
   "cell_type": "code",
   "execution_count": 333,
   "metadata": {},
   "outputs": [
    {
     "data": {
      "text/plain": [
       "[0.5263157894736842, 0.34]"
      ]
     },
     "execution_count": 333,
     "metadata": {},
     "output_type": "execute_result"
    }
   ],
   "source": [
    "[40/(36+40), 17/(17+33)]"
   ]
  },
  {
   "cell_type": "code",
   "execution_count": 334,
   "metadata": {},
   "outputs": [
    {
     "data": {
      "image/png": "[encoded data removed]",
      "text/plain": [
       "<Figure size 432x288 with 1 Axes>"
      ]
     },
     "metadata": {
      "needs_background": "light"
     },
     "output_type": "display_data"
    }
   ],
   "source": [
    "ax = sb.countplot(x=\"X4\", data=train_data_copy, hue=\"Y\")\n",
    "plt.ylabel('Frequency')\n",
    "for p in ax.patches:\n",
    "        ax.annotate('{}'.format(p.get_height()), (p.get_x()+0.1, p.get_height()))"
   ]
  },
  {
   "cell_type": "code",
   "execution_count": 345,
   "metadata": {},
   "outputs": [
    {
     "data": {
      "text/plain": [
       "array([57.14, 48.78, 43.4 , 40.  ])"
      ]
     },
     "execution_count": 345,
     "metadata": {},
     "output_type": "execute_result"
    }
   ],
   "source": [
    "# negative feed back percentage for feature X4\n",
    "np.round([4/(2+4+1)*100, 20/(20+21)*100, 23/(23+30)*100, 10/(10+15)*100], 2)"
   ]
  },
  {
   "cell_type": "code",
   "execution_count": 343,
   "metadata": {},
   "outputs": [],
   "source": [
    "transformed_train_data['X4'] = train_data_copy.X4.replace({1:'12', 2:\"12\"})"
   ]
  },
  {
   "cell_type": "code",
   "execution_count": 344,
   "metadata": {},
   "outputs": [
    {
     "data": {
      "image/png": "[encoded data removed]",
      "text/plain": [
       "<Figure size 432x288 with 1 Axes>"
      ]
     },
     "metadata": {
      "needs_background": "light"
     },
     "output_type": "display_data"
    }
   ],
   "source": [
    "ax = sb.countplot(x=\"X4\", data=transformed_train_data, hue=\"Y\")\n",
    "plt.ylabel('Frequency')\n",
    "for p in ax.patches:\n",
    "        ax.annotate('{}'.format(p.get_height()), (p.get_x()+0.1, p.get_height()))"
   ]
  },
  {
   "cell_type": "code",
   "execution_count": 346,
   "metadata": {
    "scrolled": true
   },
   "outputs": [
    {
     "data": {
      "image/png": "[encoded data removed]",
      "text/plain": [
       "<Figure size 432x288 with 1 Axes>"
      ]
     },
     "metadata": {
      "needs_background": "light"
     },
     "output_type": "display_data"
    }
   ],
   "source": [
    "ax = sb.countplot(x=\"X6\", data=train_data_copy, hue=\"Y\")\n",
    "plt.ylabel('Frequency')\n",
    "for p in ax.patches:\n",
    "        ax.annotate('{}'.format(p.get_height()), (p.get_x()+0.1, p.get_height()))"
   ]
  },
  {
   "cell_type": "code",
   "execution_count": 349,
   "metadata": {},
   "outputs": [
    {
     "data": {
      "text/plain": [
       "array([68.18, 42.55, 38.6 ])"
      ]
     },
     "execution_count": 349,
     "metadata": {},
     "output_type": "execute_result"
    }
   ],
   "source": [
    "# negative feed back percentage for feature X4\n",
    "np.round([(1+14)/(1+14+1+6)*100, 20/(20+27)*100, 22/(22+35)*100], 2)"
   ]
  },
  {
   "cell_type": "code",
   "execution_count": 350,
   "metadata": {},
   "outputs": [],
   "source": [
    "transformed_train_data['X6'] = train_data_copy.X6.replace({1:'123', 2:'123', 3:\"123\"})"
   ]
  },
  {
   "cell_type": "code",
   "execution_count": 351,
   "metadata": {},
   "outputs": [
    {
     "data": {
      "image/png": "[encoded data removed]",
      "text/plain": [
       "<Figure size 432x288 with 1 Axes>"
      ]
     },
     "metadata": {
      "needs_background": "light"
     },
     "output_type": "display_data"
    }
   ],
   "source": [
    "ax = sb.countplot(x=\"X6\", data=transformed_train_data, hue=\"Y\")\n",
    "plt.ylabel('Frequency')\n",
    "for p in ax.patches:\n",
    "        ax.annotate('{}'.format(p.get_height()), (p.get_x()+0.1, p.get_height()))"
   ]
  },
  {
   "cell_type": "code",
   "execution_count": 352,
   "metadata": {},
   "outputs": [
    {
     "data": {
      "text/plain": [
       "0.6818181818181818"
      ]
     },
     "execution_count": 352,
     "metadata": {},
     "output_type": "execute_result"
    }
   ],
   "source": [
    "15/(15+7)"
   ]
  },
  {
   "cell_type": "code",
   "execution_count": 355,
   "metadata": {},
   "outputs": [
    {
     "data": {
      "text/plain": [
       "X1     int64\n",
       "Y      int64\n",
       "X3    object\n",
       "X4    object\n",
       "X6    object\n",
       "dtype: object"
      ]
     },
     "execution_count": 355,
     "metadata": {},
     "output_type": "execute_result"
    }
   ],
   "source": [
    "transformed_train_data.dtypes"
   ]
  },
  {
   "cell_type": "code",
   "execution_count": 357,
   "metadata": {},
   "outputs": [
    {
     "data": {
      "text/plain": [
       "X1    object\n",
       "Y      int64\n",
       "X3    object\n",
       "X4    object\n",
       "X6    object\n",
       "dtype: object"
      ]
     },
     "execution_count": 357,
     "metadata": {},
     "output_type": "execute_result"
    }
   ],
   "source": [
    "transformed_train_data.X1 = transformed_train_data.X1.astype(str)\n",
    "transformed_train_data.dtypes"
   ]
  },
  {
   "cell_type": "code",
   "execution_count": 388,
   "metadata": {},
   "outputs": [
    {
     "data": {
      "text/plain": [
       "((81, 4), (45, 4), (81,), (45,))"
      ]
     },
     "execution_count": 388,
     "metadata": {},
     "output_type": "execute_result"
    }
   ],
   "source": [
    "# y = transformed_train_data.Y.values\n",
    "# transformed_train_data.drop(columns=['Y'], inplace=True)\n",
    "train_x_trans, cv_x_trans, train_y_trans, cv_y_trans = train_test_split(transformed_train_data, y, test_size=0.35, stratify=y)\n",
    "train_x_trans.shape, cv_x_trans.shape, train_y_trans.shape, cv_y_trans.shape"
   ]
  },
  {
   "cell_type": "code",
   "execution_count": 389,
   "metadata": {},
   "outputs": [
    {
     "data": {
      "text/plain": [
       "(0.6296296296296297, 0.5777777777777777)"
      ]
     },
     "execution_count": 389,
     "metadata": {},
     "output_type": "execute_result"
    }
   ],
   "source": [
    "from sklearn.naive_bayes import GaussianNB\n",
    "\n",
    "gnb = GaussianNB()\n",
    "gnb.fit(train_x_trans, train_y_trans)\n",
    "train_y_trans_preds = gnb.predict(train_x_trans)\n",
    "cv_y_trans_preds = gnb.predict(cv_x_trans)\n",
    "train_auc_trans = accuracy_score(train_y_trans, train_y_trans_preds)\n",
    "cv_auc_trans = accuracy_score(cv_y_trans, cv_y_trans_preds)\n",
    "train_auc_trans, cv_auc_trans"
   ]
  },
  {
   "cell_type": "code",
   "execution_count": 390,
   "metadata": {},
   "outputs": [
    {
     "data": {
      "text/plain": [
       "(0.654320987654321, 0.6)"
      ]
     },
     "execution_count": 390,
     "metadata": {},
     "output_type": "execute_result"
    }
   ],
   "source": [
    "from sklearn.linear_model import LogisticRegression\n",
    "\n",
    "lr = LogisticRegression()\n",
    "lr.fit(train_x_trans, train_y_trans)\n",
    "train_y_trans_preds = lr.predict(train_x_trans)\n",
    "cv_y_trans_preds = lr.predict(cv_x_trans)\n",
    "train_auc_trans = accuracy_score(train_y_trans, train_y_trans_preds)\n",
    "cv_auc_trans = accuracy_score(cv_y_trans, cv_y_trans_preds)\n",
    "train_auc_trans, cv_auc_trans"
   ]
  },
  {
   "cell_type": "code",
   "execution_count": 391,
   "metadata": {},
   "outputs": [
    {
     "data": {
      "text/plain": [
       "(0.691358024691358, 0.5777777777777777)"
      ]
     },
     "execution_count": 391,
     "metadata": {},
     "output_type": "execute_result"
    }
   ],
   "source": [
    "from sklearn.svm import SVC\n",
    "\n",
    "sv = SVC()\n",
    "sv.fit(train_x_trans, train_y_trans)\n",
    "train_y_trans_preds = sv.predict(train_x_trans)\n",
    "cv_y_trans_preds = sv.predict(cv_x_trans)\n",
    "train_auc_trans = accuracy_score(train_y_trans, train_y_trans_preds)\n",
    "cv_auc_trans = accuracy_score(cv_y_trans, cv_y_trans_preds)\n",
    "train_auc_trans, cv_auc_trans"
   ]
  },
  {
   "cell_type": "code",
   "execution_count": 392,
   "metadata": {},
   "outputs": [
    {
     "data": {
      "text/plain": [
       "(0.8024691358024691, 0.5555555555555556)"
      ]
     },
     "execution_count": 392,
     "metadata": {},
     "output_type": "execute_result"
    }
   ],
   "source": [
    "dtc = DecisionTreeClassifier()\n",
    "dtc.fit(train_x_trans, train_y_trans)\n",
    "train_y_trans_preds = dtc.predict(train_x_trans)\n",
    "cv_y_trans_preds = dtc.predict(cv_x_trans)\n",
    "train_auc_trans = accuracy_score(train_y_trans, train_y_trans_preds)\n",
    "cv_auc_trans = accuracy_score(cv_y_trans, cv_y_trans_preds)\n",
    "train_auc_trans, cv_auc_trans"
   ]
  },
  {
   "cell_type": "code",
   "execution_count": 393,
   "metadata": {},
   "outputs": [
    {
     "data": {
      "text/plain": [
       "(0.8024691358024691, 0.5111111111111111)"
      ]
     },
     "execution_count": 393,
     "metadata": {},
     "output_type": "execute_result"
    }
   ],
   "source": [
    "rfc = RandomForestClassifier()\n",
    "rfc.fit(train_x_trans, train_y_trans)\n",
    "train_y_trans_preds = rfc.predict(train_x_trans)\n",
    "cv_y_trans_preds = rfc.predict(cv_x_trans)\n",
    "train_auc_trans = accuracy_score(train_y_trans, train_y_trans_preds)\n",
    "cv_auc_trans = accuracy_score(cv_y_trans, cv_y_trans_preds)\n",
    "train_auc_trans, cv_auc_trans"
   ]
  },
  {
   "cell_type": "code",
   "execution_count": 394,
   "metadata": {},
   "outputs": [
    {
     "name": "stdout",
     "output_type": "stream",
     "text": [
      "Learning rate set to 0.003523\n",
      "0:\tlearn: 0.6920750\ttotal: 860us\tremaining: 860ms\n",
      "1:\tlearn: 0.6912225\ttotal: 1.81ms\tremaining: 905ms\n",
      "2:\tlearn: 0.6899488\ttotal: 2.71ms\tremaining: 902ms\n",
      "3:\tlearn: 0.6884527\ttotal: 3.76ms\tremaining: 937ms\n",
      "4:\tlearn: 0.6869060\ttotal: 4.88ms\tremaining: 971ms\n",
      "5:\tlearn: 0.6855612\ttotal: 5.83ms\tremaining: 966ms\n",
      "6:\tlearn: 0.6845548\ttotal: 6.81ms\tremaining: 967ms\n",
      "7:\tlearn: 0.6838555\ttotal: 7.63ms\tremaining: 947ms\n",
      "8:\tlearn: 0.6830048\ttotal: 8.39ms\tremaining: 924ms\n",
      "9:\tlearn: 0.6814359\ttotal: 9.3ms\tremaining: 921ms\n",
      "10:\tlearn: 0.6795616\ttotal: 10.2ms\tremaining: 917ms\n",
      "11:\tlearn: 0.6782690\ttotal: 11.2ms\tremaining: 925ms\n",
      "12:\tlearn: 0.6769592\ttotal: 12ms\tremaining: 910ms\n",
      "13:\tlearn: 0.6756630\ttotal: 12.7ms\tremaining: 898ms\n",
      "14:\tlearn: 0.6747466\ttotal: 13.5ms\tremaining: 886ms\n",
      "15:\tlearn: 0.6732310\ttotal: 14.6ms\tremaining: 896ms\n",
      "16:\tlearn: 0.6724750\ttotal: 15.4ms\tremaining: 891ms\n",
      "17:\tlearn: 0.6708417\ttotal: 16.3ms\tremaining: 890ms\n",
      "18:\tlearn: 0.6693500\ttotal: 17.2ms\tremaining: 889ms\n",
      "19:\tlearn: 0.6679000\ttotal: 18.4ms\tremaining: 901ms\n",
      "20:\tlearn: 0.6669432\ttotal: 19.1ms\tremaining: 891ms\n",
      "21:\tlearn: 0.6658091\ttotal: 20ms\tremaining: 891ms\n",
      "22:\tlearn: 0.6653351\ttotal: 20.8ms\tremaining: 882ms\n",
      "23:\tlearn: 0.6648646\ttotal: 21.4ms\tremaining: 871ms\n",
      "24:\tlearn: 0.6639285\ttotal: 22.2ms\tremaining: 864ms\n",
      "25:\tlearn: 0.6629999\ttotal: 22.9ms\tremaining: 858ms\n",
      "26:\tlearn: 0.6612521\ttotal: 23.9ms\tremaining: 860ms\n",
      "27:\tlearn: 0.6601543\ttotal: 24.7ms\tremaining: 856ms\n",
      "28:\tlearn: 0.6590646\ttotal: 25.4ms\tremaining: 852ms\n",
      "29:\tlearn: 0.6576288\ttotal: 26.4ms\tremaining: 852ms\n",
      "30:\tlearn: 0.6562174\ttotal: 27.3ms\tremaining: 852ms\n",
      "31:\tlearn: 0.6553782\ttotal: 28ms\tremaining: 848ms\n",
      "32:\tlearn: 0.6538710\ttotal: 28.9ms\tremaining: 848ms\n",
      "33:\tlearn: 0.6524670\ttotal: 30.1ms\tremaining: 854ms\n",
      "34:\tlearn: 0.6513067\ttotal: 30.9ms\tremaining: 853ms\n",
      "35:\tlearn: 0.6498134\ttotal: 31.9ms\tremaining: 853ms\n",
      "36:\tlearn: 0.6484071\ttotal: 33.1ms\tremaining: 862ms\n",
      "37:\tlearn: 0.6469335\ttotal: 34.2ms\tremaining: 865ms\n",
      "38:\tlearn: 0.6462252\ttotal: 35ms\tremaining: 862ms\n",
      "39:\tlearn: 0.6448632\ttotal: 36.1ms\tremaining: 866ms\n",
      "40:\tlearn: 0.6440670\ttotal: 37ms\tremaining: 865ms\n",
      "41:\tlearn: 0.6427195\ttotal: 38.1ms\tremaining: 869ms\n",
      "42:\tlearn: 0.6413584\ttotal: 39.2ms\tremaining: 872ms\n",
      "43:\tlearn: 0.6400384\ttotal: 40ms\tremaining: 870ms\n",
      "44:\tlearn: 0.6393786\ttotal: 40.8ms\tremaining: 865ms\n",
      "45:\tlearn: 0.6386734\ttotal: 41.9ms\tremaining: 870ms\n",
      "46:\tlearn: 0.6375774\ttotal: 43ms\tremaining: 873ms\n",
      "47:\tlearn: 0.6368402\ttotal: 43.9ms\tremaining: 871ms\n",
      "48:\tlearn: 0.6360308\ttotal: 44.6ms\tremaining: 866ms\n",
      "49:\tlearn: 0.6344682\ttotal: 45.6ms\tremaining: 866ms\n",
      "50:\tlearn: 0.6335988\ttotal: 46.4ms\tremaining: 864ms\n",
      "51:\tlearn: 0.6329683\ttotal: 47.2ms\tremaining: 860ms\n",
      "52:\tlearn: 0.6316930\ttotal: 48.4ms\tremaining: 864ms\n",
      "53:\tlearn: 0.6309556\ttotal: 49.3ms\tremaining: 864ms\n",
      "54:\tlearn: 0.6296926\ttotal: 50.3ms\tremaining: 865ms\n",
      "55:\tlearn: 0.6289171\ttotal: 51.3ms\tremaining: 865ms\n",
      "56:\tlearn: 0.6276798\ttotal: 52.5ms\tremaining: 868ms\n",
      "57:\tlearn: 0.6269453\ttotal: 53.4ms\tremaining: 867ms\n",
      "58:\tlearn: 0.6263729\ttotal: 54.2ms\tremaining: 865ms\n",
      "59:\tlearn: 0.6254698\ttotal: 55ms\tremaining: 862ms\n",
      "60:\tlearn: 0.6247659\ttotal: 55.8ms\tremaining: 860ms\n",
      "61:\tlearn: 0.6241728\ttotal: 56.6ms\tremaining: 857ms\n",
      "62:\tlearn: 0.6229648\ttotal: 57.7ms\tremaining: 858ms\n",
      "63:\tlearn: 0.6226943\ttotal: 58.8ms\tremaining: 859ms\n",
      "64:\tlearn: 0.6214942\ttotal: 60.3ms\tremaining: 868ms\n",
      "65:\tlearn: 0.6210380\ttotal: 61.5ms\tremaining: 871ms\n",
      "66:\tlearn: 0.6199474\ttotal: 62.8ms\tremaining: 874ms\n",
      "67:\tlearn: 0.6190822\ttotal: 63.7ms\tremaining: 872ms\n",
      "68:\tlearn: 0.6179049\ttotal: 64.6ms\tremaining: 871ms\n",
      "69:\tlearn: 0.6171902\ttotal: 65.5ms\tremaining: 870ms\n",
      "70:\tlearn: 0.6160396\ttotal: 66.7ms\tremaining: 873ms\n",
      "71:\tlearn: 0.6153656\ttotal: 67.9ms\tremaining: 875ms\n",
      "72:\tlearn: 0.6147077\ttotal: 68.9ms\tremaining: 876ms\n",
      "73:\tlearn: 0.6141193\ttotal: 70.2ms\tremaining: 878ms\n",
      "74:\tlearn: 0.6128714\ttotal: 71.3ms\tremaining: 879ms\n",
      "75:\tlearn: 0.6120467\ttotal: 72.1ms\tremaining: 877ms\n",
      "76:\tlearn: 0.6108111\ttotal: 73.5ms\tremaining: 880ms\n",
      "77:\tlearn: 0.6104568\ttotal: 74.5ms\tremaining: 881ms\n",
      "78:\tlearn: 0.6100419\ttotal: 75.5ms\tremaining: 880ms\n",
      "79:\tlearn: 0.6094441\ttotal: 76.2ms\tremaining: 876ms\n",
      "80:\tlearn: 0.6085265\ttotal: 77ms\tremaining: 874ms\n",
      "81:\tlearn: 0.6078985\ttotal: 77.8ms\tremaining: 871ms\n",
      "82:\tlearn: 0.6067780\ttotal: 78.8ms\tremaining: 871ms\n",
      "83:\tlearn: 0.6056844\ttotal: 79.5ms\tremaining: 867ms\n",
      "84:\tlearn: 0.6051145\ttotal: 80.5ms\tremaining: 866ms\n",
      "85:\tlearn: 0.6044863\ttotal: 81.2ms\tremaining: 863ms\n",
      "86:\tlearn: 0.6038377\ttotal: 82ms\tremaining: 860ms\n",
      "87:\tlearn: 0.6027361\ttotal: 83.7ms\tremaining: 867ms\n",
      "88:\tlearn: 0.6016682\ttotal: 84.5ms\tremaining: 865ms\n",
      "89:\tlearn: 0.6005712\ttotal: 85.4ms\tremaining: 864ms\n",
      "90:\tlearn: 0.6004902\ttotal: 86.3ms\tremaining: 862ms\n",
      "91:\tlearn: 0.5996183\ttotal: 87.3ms\tremaining: 861ms\n",
      "92:\tlearn: 0.5987845\ttotal: 88.1ms\tremaining: 859ms\n",
      "93:\tlearn: 0.5974743\ttotal: 89ms\tremaining: 858ms\n",
      "94:\tlearn: 0.5963375\ttotal: 90.1ms\tremaining: 859ms\n",
      "95:\tlearn: 0.5957612\ttotal: 91.1ms\tremaining: 858ms\n",
      "96:\tlearn: 0.5953104\ttotal: 92.1ms\tremaining: 858ms\n",
      "97:\tlearn: 0.5942696\ttotal: 93.2ms\tremaining: 858ms\n",
      "98:\tlearn: 0.5932948\ttotal: 94.1ms\tremaining: 856ms\n",
      "99:\tlearn: 0.5923265\ttotal: 95ms\tremaining: 855ms\n",
      "100:\tlearn: 0.5917285\ttotal: 95.9ms\tremaining: 854ms\n",
      "101:\tlearn: 0.5909924\ttotal: 96.9ms\tremaining: 853ms\n",
      "102:\tlearn: 0.5900003\ttotal: 97.8ms\tremaining: 851ms\n",
      "103:\tlearn: 0.5894742\ttotal: 98.6ms\tremaining: 849ms\n",
      "104:\tlearn: 0.5888908\ttotal: 99.4ms\tremaining: 847ms\n",
      "105:\tlearn: 0.5882937\ttotal: 100ms\tremaining: 845ms\n",
      "106:\tlearn: 0.5873187\ttotal: 101ms\tremaining: 843ms\n",
      "107:\tlearn: 0.5863264\ttotal: 102ms\tremaining: 841ms\n",
      "108:\tlearn: 0.5858874\ttotal: 102ms\tremaining: 838ms\n",
      "109:\tlearn: 0.5854519\ttotal: 103ms\tremaining: 836ms\n",
      "110:\tlearn: 0.5844968\ttotal: 104ms\tremaining: 836ms\n",
      "111:\tlearn: 0.5842534\ttotal: 105ms\tremaining: 835ms\n",
      "112:\tlearn: 0.5837020\ttotal: 107ms\tremaining: 837ms\n",
      "113:\tlearn: 0.5824953\ttotal: 108ms\tremaining: 838ms\n",
      "114:\tlearn: 0.5818320\ttotal: 109ms\tremaining: 836ms\n",
      "115:\tlearn: 0.5810454\ttotal: 110ms\tremaining: 837ms\n",
      "116:\tlearn: 0.5800811\ttotal: 111ms\tremaining: 836ms\n",
      "117:\tlearn: 0.5795459\ttotal: 111ms\tremaining: 833ms\n",
      "118:\tlearn: 0.5785266\ttotal: 112ms\tremaining: 832ms\n",
      "119:\tlearn: 0.5776144\ttotal: 113ms\tremaining: 830ms\n",
      "120:\tlearn: 0.5768241\ttotal: 114ms\tremaining: 828ms\n",
      "121:\tlearn: 0.5758138\ttotal: 115ms\tremaining: 827ms\n",
      "122:\tlearn: 0.5753657\ttotal: 116ms\tremaining: 825ms\n",
      "123:\tlearn: 0.5744517\ttotal: 117ms\tremaining: 825ms\n",
      "124:\tlearn: 0.5735662\ttotal: 118ms\tremaining: 825ms\n",
      "125:\tlearn: 0.5726502\ttotal: 119ms\tremaining: 824ms\n",
      "126:\tlearn: 0.5721889\ttotal: 120ms\tremaining: 822ms\n",
      "127:\tlearn: 0.5718972\ttotal: 121ms\tremaining: 821ms\n",
      "128:\tlearn: 0.5713762\ttotal: 121ms\tremaining: 820ms\n",
      "129:\tlearn: 0.5708778\ttotal: 123ms\tremaining: 820ms\n",
      "130:\tlearn: 0.5697586\ttotal: 124ms\tremaining: 821ms\n",
      "131:\tlearn: 0.5691937\ttotal: 125ms\tremaining: 821ms\n",
      "132:\tlearn: 0.5682989\ttotal: 126ms\tremaining: 823ms\n",
      "133:\tlearn: 0.5671974\ttotal: 127ms\tremaining: 823ms\n",
      "134:\tlearn: 0.5663284\ttotal: 129ms\tremaining: 824ms\n",
      "135:\tlearn: 0.5654554\ttotal: 130ms\tremaining: 823ms\n",
      "136:\tlearn: 0.5649897\ttotal: 130ms\tremaining: 822ms\n",
      "137:\tlearn: 0.5644854\ttotal: 131ms\tremaining: 821ms\n",
      "138:\tlearn: 0.5638081\ttotal: 132ms\tremaining: 819ms\n",
      "139:\tlearn: 0.5631378\ttotal: 133ms\tremaining: 817ms\n",
      "140:\tlearn: 0.5622780\ttotal: 134ms\tremaining: 816ms\n",
      "141:\tlearn: 0.5612164\ttotal: 135ms\tremaining: 815ms\n",
      "142:\tlearn: 0.5605598\ttotal: 136ms\tremaining: 813ms\n",
      "143:\tlearn: 0.5596625\ttotal: 137ms\tremaining: 812ms\n",
      "144:\tlearn: 0.5593365\ttotal: 137ms\tremaining: 810ms\n",
      "145:\tlearn: 0.5586886\ttotal: 138ms\tremaining: 808ms\n",
      "146:\tlearn: 0.5578628\ttotal: 139ms\tremaining: 807ms\n",
      "147:\tlearn: 0.5571002\ttotal: 140ms\tremaining: 805ms\n",
      "148:\tlearn: 0.5564661\ttotal: 141ms\tremaining: 804ms\n",
      "149:\tlearn: 0.5556465\ttotal: 142ms\tremaining: 805ms\n",
      "150:\tlearn: 0.5551820\ttotal: 143ms\tremaining: 804ms\n",
      "151:\tlearn: 0.5546476\ttotal: 144ms\tremaining: 802ms\n",
      "152:\tlearn: 0.5542492\ttotal: 145ms\tremaining: 803ms\n",
      "153:\tlearn: 0.5537939\ttotal: 146ms\tremaining: 801ms\n",
      "154:\tlearn: 0.5534330\ttotal: 147ms\tremaining: 799ms\n",
      "155:\tlearn: 0.5531190\ttotal: 147ms\tremaining: 798ms\n",
      "156:\tlearn: 0.5523183\ttotal: 148ms\tremaining: 797ms\n",
      "157:\tlearn: 0.5514744\ttotal: 149ms\tremaining: 796ms\n",
      "158:\tlearn: 0.5510316\ttotal: 150ms\tremaining: 794ms\n",
      "159:\tlearn: 0.5502433\ttotal: 151ms\tremaining: 795ms\n",
      "160:\tlearn: 0.5496610\ttotal: 152ms\tremaining: 793ms\n",
      "161:\tlearn: 0.5491570\ttotal: 153ms\tremaining: 792ms\n",
      "162:\tlearn: 0.5483793\ttotal: 154ms\tremaining: 793ms\n",
      "163:\tlearn: 0.5479929\ttotal: 155ms\tremaining: 792ms\n",
      "164:\tlearn: 0.5472864\ttotal: 157ms\tremaining: 792ms\n",
      "165:\tlearn: 0.5471854\ttotal: 157ms\tremaining: 791ms\n",
      "166:\tlearn: 0.5466941\ttotal: 158ms\tremaining: 790ms\n",
      "167:\tlearn: 0.5457351\ttotal: 159ms\tremaining: 790ms\n",
      "168:\tlearn: 0.5454784\ttotal: 160ms\tremaining: 788ms\n",
      "169:\tlearn: 0.5449956\ttotal: 161ms\tremaining: 787ms\n",
      "170:\tlearn: 0.5446182\ttotal: 162ms\tremaining: 786ms\n",
      "171:\tlearn: 0.5444064\ttotal: 163ms\tremaining: 784ms\n",
      "172:\tlearn: 0.5436662\ttotal: 164ms\tremaining: 783ms\n",
      "173:\tlearn: 0.5432148\ttotal: 165ms\tremaining: 782ms\n",
      "174:\tlearn: 0.5424840\ttotal: 166ms\tremaining: 782ms\n",
      "175:\tlearn: 0.5419206\ttotal: 167ms\tremaining: 780ms\n",
      "176:\tlearn: 0.5414541\ttotal: 168ms\tremaining: 780ms\n",
      "177:\tlearn: 0.5413077\ttotal: 168ms\tremaining: 778ms\n",
      "178:\tlearn: 0.5405961\ttotal: 169ms\tremaining: 776ms\n",
      "179:\tlearn: 0.5403217\ttotal: 170ms\tremaining: 775ms\n",
      "180:\tlearn: 0.5399306\ttotal: 171ms\tremaining: 774ms\n",
      "181:\tlearn: 0.5392570\ttotal: 172ms\tremaining: 774ms\n",
      "182:\tlearn: 0.5389021\ttotal: 173ms\tremaining: 773ms\n",
      "183:\tlearn: 0.5385721\ttotal: 174ms\tremaining: 772ms\n",
      "184:\tlearn: 0.5385222\ttotal: 175ms\tremaining: 771ms\n",
      "185:\tlearn: 0.5381402\ttotal: 176ms\tremaining: 770ms\n",
      "186:\tlearn: 0.5375680\ttotal: 177ms\tremaining: 769ms\n",
      "187:\tlearn: 0.5368495\ttotal: 178ms\tremaining: 768ms\n",
      "188:\tlearn: 0.5363129\ttotal: 179ms\tremaining: 766ms\n",
      "189:\tlearn: 0.5356182\ttotal: 180ms\tremaining: 766ms\n",
      "190:\tlearn: 0.5355627\ttotal: 180ms\tremaining: 764ms\n",
      "191:\tlearn: 0.5348564\ttotal: 182ms\tremaining: 765ms\n",
      "192:\tlearn: 0.5342090\ttotal: 183ms\tremaining: 763ms\n",
      "193:\tlearn: 0.5338842\ttotal: 184ms\tremaining: 762ms\n",
      "194:\tlearn: 0.5333654\ttotal: 184ms\tremaining: 761ms\n",
      "195:\tlearn: 0.5326749\ttotal: 186ms\tremaining: 763ms\n",
      "196:\tlearn: 0.5324929\ttotal: 187ms\tremaining: 761ms\n",
      "197:\tlearn: 0.5318209\ttotal: 188ms\tremaining: 760ms\n",
      "198:\tlearn: 0.5315176\ttotal: 188ms\tremaining: 759ms\n",
      "199:\tlearn: 0.5314044\ttotal: 189ms\tremaining: 757ms\n",
      "200:\tlearn: 0.5311035\ttotal: 190ms\tremaining: 755ms\n",
      "201:\tlearn: 0.5308286\ttotal: 191ms\tremaining: 754ms\n",
      "202:\tlearn: 0.5303444\ttotal: 192ms\tremaining: 753ms\n",
      "203:\tlearn: 0.5300521\ttotal: 193ms\tremaining: 753ms\n",
      "204:\tlearn: 0.5293790\ttotal: 194ms\tremaining: 752ms\n",
      "205:\tlearn: 0.5288754\ttotal: 195ms\tremaining: 752ms\n",
      "206:\tlearn: 0.5282711\ttotal: 196ms\tremaining: 752ms\n",
      "207:\tlearn: 0.5278660\ttotal: 197ms\tremaining: 752ms\n",
      "208:\tlearn: 0.5272592\ttotal: 199ms\tremaining: 752ms\n",
      "209:\tlearn: 0.5271401\ttotal: 199ms\tremaining: 750ms\n",
      "210:\tlearn: 0.5268223\ttotal: 201ms\tremaining: 750ms\n",
      "211:\tlearn: 0.5267775\ttotal: 201ms\tremaining: 748ms\n",
      "212:\tlearn: 0.5263331\ttotal: 202ms\tremaining: 747ms\n",
      "213:\tlearn: 0.5255063\ttotal: 203ms\tremaining: 746ms\n",
      "214:\tlearn: 0.5248705\ttotal: 204ms\tremaining: 745ms\n",
      "215:\tlearn: 0.5247616\ttotal: 205ms\tremaining: 745ms\n",
      "216:\tlearn: 0.5247316\ttotal: 206ms\tremaining: 744ms\n",
      "217:\tlearn: 0.5240542\ttotal: 207ms\tremaining: 743ms\n",
      "218:\tlearn: 0.5234146\ttotal: 208ms\tremaining: 743ms\n",
      "219:\tlearn: 0.5228387\ttotal: 209ms\tremaining: 742ms\n",
      "220:\tlearn: 0.5224870\ttotal: 210ms\tremaining: 741ms\n",
      "221:\tlearn: 0.5219167\ttotal: 211ms\tremaining: 741ms\n",
      "222:\tlearn: 0.5214323\ttotal: 213ms\tremaining: 741ms\n",
      "223:\tlearn: 0.5208254\ttotal: 214ms\tremaining: 741ms\n",
      "224:\tlearn: 0.5202582\ttotal: 215ms\tremaining: 740ms\n",
      "225:\tlearn: 0.5201527\ttotal: 216ms\tremaining: 739ms\n",
      "226:\tlearn: 0.5196580\ttotal: 217ms\tremaining: 738ms\n",
      "227:\tlearn: 0.5193189\ttotal: 218ms\tremaining: 737ms\n",
      "228:\tlearn: 0.5189583\ttotal: 219ms\tremaining: 736ms\n",
      "229:\tlearn: 0.5185064\ttotal: 220ms\tremaining: 736ms\n",
      "230:\tlearn: 0.5184655\ttotal: 221ms\tremaining: 735ms\n",
      "231:\tlearn: 0.5181499\ttotal: 222ms\tremaining: 734ms\n",
      "232:\tlearn: 0.5175253\ttotal: 223ms\tremaining: 733ms\n",
      "233:\tlearn: 0.5169206\ttotal: 224ms\tremaining: 732ms\n",
      "234:\tlearn: 0.5166911\ttotal: 225ms\tremaining: 731ms\n",
      "235:\tlearn: 0.5161460\ttotal: 226ms\tremaining: 731ms\n",
      "236:\tlearn: 0.5155628\ttotal: 227ms\tremaining: 730ms\n",
      "237:\tlearn: 0.5148045\ttotal: 228ms\tremaining: 730ms\n",
      "238:\tlearn: 0.5143757\ttotal: 229ms\tremaining: 729ms\n",
      "239:\tlearn: 0.5138711\ttotal: 230ms\tremaining: 729ms\n",
      "240:\tlearn: 0.5136181\ttotal: 231ms\tremaining: 728ms\n",
      "241:\tlearn: 0.5131516\ttotal: 232ms\tremaining: 727ms\n",
      "242:\tlearn: 0.5125910\ttotal: 233ms\tremaining: 726ms\n",
      "243:\tlearn: 0.5122495\ttotal: 234ms\tremaining: 726ms\n",
      "244:\tlearn: 0.5119296\ttotal: 235ms\tremaining: 724ms\n",
      "245:\tlearn: 0.5116427\ttotal: 236ms\tremaining: 724ms\n",
      "246:\tlearn: 0.5111244\ttotal: 237ms\tremaining: 723ms\n",
      "247:\tlearn: 0.5103935\ttotal: 238ms\tremaining: 723ms\n",
      "248:\tlearn: 0.5103435\ttotal: 239ms\tremaining: 721ms\n",
      "249:\tlearn: 0.5101022\ttotal: 240ms\tremaining: 720ms\n",
      "250:\tlearn: 0.5093777\ttotal: 241ms\tremaining: 719ms\n",
      "251:\tlearn: 0.5088151\ttotal: 242ms\tremaining: 718ms\n",
      "252:\tlearn: 0.5082048\ttotal: 243ms\tremaining: 718ms\n",
      "253:\tlearn: 0.5076701\ttotal: 244ms\tremaining: 717ms\n",
      "254:\tlearn: 0.5073100\ttotal: 245ms\tremaining: 715ms\n",
      "255:\tlearn: 0.5070386\ttotal: 246ms\tremaining: 714ms\n",
      "256:\tlearn: 0.5068396\ttotal: 247ms\tremaining: 713ms\n",
      "257:\tlearn: 0.5065473\ttotal: 247ms\tremaining: 712ms\n",
      "258:\tlearn: 0.5062457\ttotal: 248ms\tremaining: 710ms\n",
      "259:\tlearn: 0.5059757\ttotal: 249ms\tremaining: 710ms\n",
      "260:\tlearn: 0.5057165\ttotal: 250ms\tremaining: 709ms\n",
      "261:\tlearn: 0.5055941\ttotal: 251ms\tremaining: 708ms\n",
      "262:\tlearn: 0.5050021\ttotal: 252ms\tremaining: 707ms\n",
      "263:\tlearn: 0.5045184\ttotal: 253ms\tremaining: 707ms\n",
      "264:\tlearn: 0.5038302\ttotal: 254ms\tremaining: 706ms\n",
      "265:\tlearn: 0.5037293\ttotal: 255ms\tremaining: 705ms\n",
      "266:\tlearn: 0.5034667\ttotal: 256ms\tremaining: 704ms\n",
      "267:\tlearn: 0.5032106\ttotal: 257ms\tremaining: 703ms\n",
      "268:\tlearn: 0.5026867\ttotal: 259ms\tremaining: 703ms\n",
      "269:\tlearn: 0.5025015\ttotal: 259ms\tremaining: 701ms\n",
      "270:\tlearn: 0.5020297\ttotal: 261ms\tremaining: 701ms\n",
      "271:\tlearn: 0.5017594\ttotal: 261ms\tremaining: 699ms\n",
      "272:\tlearn: 0.5015280\ttotal: 262ms\tremaining: 698ms\n",
      "273:\tlearn: 0.5012593\ttotal: 263ms\tremaining: 697ms\n",
      "274:\tlearn: 0.5007516\ttotal: 264ms\tremaining: 696ms\n",
      "275:\tlearn: 0.5002315\ttotal: 265ms\tremaining: 695ms\n",
      "276:\tlearn: 0.4997293\ttotal: 266ms\tremaining: 694ms\n",
      "277:\tlearn: 0.4994632\ttotal: 267ms\tremaining: 692ms\n",
      "278:\tlearn: 0.4990774\ttotal: 268ms\tremaining: 692ms\n",
      "279:\tlearn: 0.4985663\ttotal: 269ms\tremaining: 691ms\n",
      "280:\tlearn: 0.4981164\ttotal: 269ms\tremaining: 689ms\n",
      "281:\tlearn: 0.4977543\ttotal: 270ms\tremaining: 688ms\n",
      "282:\tlearn: 0.4974793\ttotal: 271ms\tremaining: 687ms\n",
      "283:\tlearn: 0.4971303\ttotal: 272ms\tremaining: 686ms\n",
      "284:\tlearn: 0.4967552\ttotal: 273ms\tremaining: 685ms\n",
      "285:\tlearn: 0.4965190\ttotal: 274ms\tremaining: 684ms\n",
      "286:\tlearn: 0.4961266\ttotal: 275ms\tremaining: 683ms\n",
      "287:\tlearn: 0.4960528\ttotal: 275ms\tremaining: 681ms\n",
      "288:\tlearn: 0.4954149\ttotal: 276ms\tremaining: 680ms\n",
      "289:\tlearn: 0.4949493\ttotal: 277ms\tremaining: 679ms\n",
      "290:\tlearn: 0.4945151\ttotal: 278ms\tremaining: 678ms\n",
      "291:\tlearn: 0.4942783\ttotal: 279ms\tremaining: 676ms\n",
      "292:\tlearn: 0.4941633\ttotal: 280ms\tremaining: 675ms\n",
      "293:\tlearn: 0.4939339\ttotal: 280ms\tremaining: 674ms\n",
      "294:\tlearn: 0.4933089\ttotal: 281ms\tremaining: 672ms\n",
      "295:\tlearn: 0.4928071\ttotal: 282ms\tremaining: 671ms\n",
      "296:\tlearn: 0.4927917\ttotal: 283ms\tremaining: 670ms\n",
      "297:\tlearn: 0.4921742\ttotal: 284ms\tremaining: 669ms\n",
      "298:\tlearn: 0.4921057\ttotal: 284ms\tremaining: 667ms\n",
      "299:\tlearn: 0.4916566\ttotal: 285ms\tremaining: 666ms\n",
      "300:\tlearn: 0.4913165\ttotal: 286ms\tremaining: 664ms\n",
      "301:\tlearn: 0.4911125\ttotal: 287ms\tremaining: 663ms\n",
      "302:\tlearn: 0.4908724\ttotal: 288ms\tremaining: 662ms\n",
      "303:\tlearn: 0.4904176\ttotal: 289ms\tremaining: 661ms\n",
      "304:\tlearn: 0.4900875\ttotal: 289ms\tremaining: 660ms\n",
      "305:\tlearn: 0.4898508\ttotal: 290ms\tremaining: 658ms\n",
      "306:\tlearn: 0.4895432\ttotal: 291ms\tremaining: 657ms\n",
      "307:\tlearn: 0.4893122\ttotal: 292ms\tremaining: 656ms\n",
      "308:\tlearn: 0.4889093\ttotal: 293ms\tremaining: 655ms\n",
      "309:\tlearn: 0.4887035\ttotal: 294ms\tremaining: 654ms\n",
      "310:\tlearn: 0.4884833\ttotal: 294ms\tremaining: 652ms\n",
      "311:\tlearn: 0.4883002\ttotal: 295ms\tremaining: 651ms\n",
      "312:\tlearn: 0.4879117\ttotal: 296ms\tremaining: 650ms\n",
      "313:\tlearn: 0.4875162\ttotal: 297ms\tremaining: 649ms\n",
      "314:\tlearn: 0.4871179\ttotal: 298ms\tremaining: 648ms\n"
     ]
    },
    {
     "name": "stdout",
     "output_type": "stream",
     "text": [
      "315:\tlearn: 0.4869031\ttotal: 299ms\tremaining: 647ms\n",
      "316:\tlearn: 0.4863197\ttotal: 300ms\tremaining: 647ms\n",
      "317:\tlearn: 0.4859403\ttotal: 301ms\tremaining: 646ms\n",
      "318:\tlearn: 0.4857194\ttotal: 302ms\tremaining: 645ms\n",
      "319:\tlearn: 0.4854997\ttotal: 303ms\tremaining: 644ms\n",
      "320:\tlearn: 0.4852672\ttotal: 304ms\tremaining: 642ms\n",
      "321:\tlearn: 0.4848245\ttotal: 305ms\tremaining: 641ms\n",
      "322:\tlearn: 0.4842538\ttotal: 305ms\tremaining: 640ms\n",
      "323:\tlearn: 0.4840545\ttotal: 306ms\tremaining: 639ms\n",
      "324:\tlearn: 0.4838456\ttotal: 307ms\tremaining: 638ms\n",
      "325:\tlearn: 0.4837881\ttotal: 308ms\tremaining: 636ms\n",
      "326:\tlearn: 0.4835591\ttotal: 309ms\tremaining: 635ms\n",
      "327:\tlearn: 0.4834636\ttotal: 310ms\tremaining: 635ms\n",
      "328:\tlearn: 0.4831593\ttotal: 311ms\tremaining: 634ms\n",
      "329:\tlearn: 0.4827802\ttotal: 312ms\tremaining: 633ms\n",
      "330:\tlearn: 0.4827458\ttotal: 312ms\tremaining: 631ms\n",
      "331:\tlearn: 0.4825350\ttotal: 313ms\tremaining: 630ms\n",
      "332:\tlearn: 0.4823118\ttotal: 314ms\tremaining: 629ms\n",
      "333:\tlearn: 0.4818694\ttotal: 315ms\tremaining: 628ms\n",
      "334:\tlearn: 0.4815040\ttotal: 316ms\tremaining: 627ms\n",
      "335:\tlearn: 0.4813254\ttotal: 317ms\tremaining: 626ms\n",
      "336:\tlearn: 0.4811319\ttotal: 318ms\tremaining: 625ms\n",
      "337:\tlearn: 0.4809296\ttotal: 319ms\tremaining: 624ms\n",
      "338:\tlearn: 0.4804948\ttotal: 319ms\tremaining: 623ms\n",
      "339:\tlearn: 0.4802410\ttotal: 320ms\tremaining: 622ms\n",
      "340:\tlearn: 0.4800755\ttotal: 321ms\tremaining: 620ms\n",
      "341:\tlearn: 0.4796157\ttotal: 322ms\tremaining: 619ms\n",
      "342:\tlearn: 0.4794162\ttotal: 323ms\tremaining: 618ms\n",
      "343:\tlearn: 0.4792290\ttotal: 323ms\tremaining: 617ms\n",
      "344:\tlearn: 0.4788146\ttotal: 324ms\tremaining: 616ms\n",
      "345:\tlearn: 0.4783910\ttotal: 325ms\tremaining: 615ms\n",
      "346:\tlearn: 0.4780425\ttotal: 326ms\tremaining: 614ms\n",
      "347:\tlearn: 0.4775111\ttotal: 327ms\tremaining: 613ms\n",
      "348:\tlearn: 0.4773166\ttotal: 328ms\tremaining: 612ms\n",
      "349:\tlearn: 0.4772399\ttotal: 329ms\tremaining: 610ms\n",
      "350:\tlearn: 0.4769611\ttotal: 330ms\tremaining: 609ms\n",
      "351:\tlearn: 0.4767766\ttotal: 330ms\tremaining: 608ms\n",
      "352:\tlearn: 0.4767282\ttotal: 331ms\tremaining: 607ms\n",
      "353:\tlearn: 0.4766949\ttotal: 332ms\tremaining: 605ms\n",
      "354:\tlearn: 0.4762515\ttotal: 333ms\tremaining: 605ms\n",
      "355:\tlearn: 0.4760691\ttotal: 334ms\tremaining: 603ms\n",
      "356:\tlearn: 0.4758804\ttotal: 334ms\tremaining: 602ms\n",
      "357:\tlearn: 0.4758474\ttotal: 335ms\tremaining: 601ms\n",
      "358:\tlearn: 0.4754635\ttotal: 336ms\tremaining: 600ms\n",
      "359:\tlearn: 0.4753904\ttotal: 337ms\tremaining: 598ms\n",
      "360:\tlearn: 0.4750908\ttotal: 337ms\tremaining: 597ms\n",
      "361:\tlearn: 0.4747111\ttotal: 338ms\tremaining: 596ms\n",
      "362:\tlearn: 0.4746788\ttotal: 339ms\tremaining: 595ms\n",
      "363:\tlearn: 0.4743187\ttotal: 340ms\tremaining: 594ms\n",
      "364:\tlearn: 0.4738084\ttotal: 341ms\tremaining: 593ms\n",
      "365:\tlearn: 0.4736207\ttotal: 342ms\tremaining: 592ms\n",
      "366:\tlearn: 0.4732847\ttotal: 342ms\tremaining: 591ms\n",
      "367:\tlearn: 0.4729610\ttotal: 343ms\tremaining: 590ms\n",
      "368:\tlearn: 0.4727490\ttotal: 344ms\tremaining: 589ms\n",
      "369:\tlearn: 0.4727303\ttotal: 345ms\tremaining: 587ms\n",
      "370:\tlearn: 0.4723622\ttotal: 346ms\tremaining: 586ms\n",
      "371:\tlearn: 0.4722131\ttotal: 346ms\tremaining: 585ms\n",
      "372:\tlearn: 0.4717142\ttotal: 347ms\tremaining: 584ms\n",
      "373:\tlearn: 0.4715536\ttotal: 348ms\tremaining: 583ms\n",
      "374:\tlearn: 0.4712371\ttotal: 349ms\tremaining: 582ms\n",
      "375:\tlearn: 0.4708139\ttotal: 350ms\tremaining: 581ms\n",
      "376:\tlearn: 0.4705601\ttotal: 351ms\tremaining: 580ms\n",
      "377:\tlearn: 0.4705283\ttotal: 352ms\tremaining: 579ms\n",
      "378:\tlearn: 0.4703829\ttotal: 352ms\tremaining: 578ms\n",
      "379:\tlearn: 0.4702218\ttotal: 353ms\tremaining: 577ms\n",
      "380:\tlearn: 0.4701294\ttotal: 354ms\tremaining: 575ms\n",
      "381:\tlearn: 0.4700648\ttotal: 355ms\tremaining: 574ms\n",
      "382:\tlearn: 0.4698969\ttotal: 356ms\tremaining: 573ms\n",
      "383:\tlearn: 0.4697244\ttotal: 356ms\tremaining: 572ms\n",
      "384:\tlearn: 0.4697134\ttotal: 357ms\tremaining: 570ms\n",
      "385:\tlearn: 0.4695471\ttotal: 358ms\tremaining: 569ms\n",
      "386:\tlearn: 0.4692865\ttotal: 359ms\tremaining: 568ms\n",
      "387:\tlearn: 0.4689332\ttotal: 360ms\tremaining: 567ms\n",
      "388:\tlearn: 0.4686862\ttotal: 360ms\tremaining: 566ms\n",
      "389:\tlearn: 0.4683201\ttotal: 361ms\tremaining: 565ms\n",
      "390:\tlearn: 0.4678430\ttotal: 362ms\tremaining: 564ms\n",
      "391:\tlearn: 0.4676224\ttotal: 363ms\tremaining: 563ms\n",
      "392:\tlearn: 0.4672612\ttotal: 364ms\tremaining: 562ms\n",
      "393:\tlearn: 0.4672222\ttotal: 365ms\tremaining: 561ms\n",
      "394:\tlearn: 0.4669250\ttotal: 366ms\tremaining: 560ms\n",
      "395:\tlearn: 0.4666177\ttotal: 367ms\tremaining: 559ms\n",
      "396:\tlearn: 0.4665603\ttotal: 367ms\tremaining: 558ms\n",
      "397:\tlearn: 0.4663264\ttotal: 368ms\tremaining: 557ms\n",
      "398:\tlearn: 0.4662351\ttotal: 369ms\tremaining: 556ms\n",
      "399:\tlearn: 0.4660029\ttotal: 370ms\tremaining: 555ms\n",
      "400:\tlearn: 0.4657327\ttotal: 371ms\tremaining: 554ms\n",
      "401:\tlearn: 0.4655832\ttotal: 372ms\tremaining: 553ms\n",
      "402:\tlearn: 0.4655451\ttotal: 372ms\tremaining: 551ms\n",
      "403:\tlearn: 0.4651481\ttotal: 373ms\tremaining: 550ms\n",
      "404:\tlearn: 0.4649766\ttotal: 374ms\tremaining: 549ms\n",
      "405:\tlearn: 0.4649391\ttotal: 375ms\tremaining: 548ms\n",
      "406:\tlearn: 0.4646024\ttotal: 375ms\tremaining: 547ms\n",
      "407:\tlearn: 0.4645513\ttotal: 376ms\tremaining: 546ms\n",
      "408:\tlearn: 0.4642035\ttotal: 377ms\tremaining: 545ms\n",
      "409:\tlearn: 0.4638577\ttotal: 378ms\tremaining: 544ms\n",
      "410:\tlearn: 0.4637973\ttotal: 379ms\tremaining: 543ms\n",
      "411:\tlearn: 0.4637165\ttotal: 379ms\tremaining: 542ms\n",
      "412:\tlearn: 0.4634341\ttotal: 380ms\tremaining: 541ms\n",
      "413:\tlearn: 0.4632735\ttotal: 381ms\tremaining: 539ms\n",
      "414:\tlearn: 0.4631321\ttotal: 382ms\tremaining: 538ms\n",
      "415:\tlearn: 0.4630619\ttotal: 383ms\tremaining: 537ms\n",
      "416:\tlearn: 0.4628966\ttotal: 383ms\tremaining: 536ms\n",
      "417:\tlearn: 0.4627549\ttotal: 384ms\tremaining: 535ms\n",
      "418:\tlearn: 0.4626311\ttotal: 385ms\tremaining: 534ms\n",
      "419:\tlearn: 0.4624923\ttotal: 386ms\tremaining: 533ms\n",
      "420:\tlearn: 0.4621836\ttotal: 387ms\tremaining: 532ms\n",
      "421:\tlearn: 0.4620066\ttotal: 387ms\tremaining: 531ms\n",
      "422:\tlearn: 0.4619118\ttotal: 388ms\tremaining: 530ms\n",
      "423:\tlearn: 0.4617535\ttotal: 389ms\tremaining: 529ms\n",
      "424:\tlearn: 0.4615178\ttotal: 390ms\tremaining: 528ms\n",
      "425:\tlearn: 0.4613642\ttotal: 391ms\tremaining: 526ms\n",
      "426:\tlearn: 0.4609846\ttotal: 391ms\tremaining: 525ms\n",
      "427:\tlearn: 0.4608246\ttotal: 392ms\tremaining: 524ms\n",
      "428:\tlearn: 0.4606671\ttotal: 393ms\tremaining: 523ms\n",
      "429:\tlearn: 0.4604685\ttotal: 394ms\tremaining: 522ms\n",
      "430:\tlearn: 0.4604580\ttotal: 395ms\tremaining: 521ms\n",
      "431:\tlearn: 0.4603400\ttotal: 395ms\tremaining: 520ms\n",
      "432:\tlearn: 0.4600092\ttotal: 396ms\tremaining: 519ms\n",
      "433:\tlearn: 0.4599199\ttotal: 397ms\tremaining: 518ms\n",
      "434:\tlearn: 0.4598922\ttotal: 398ms\tremaining: 517ms\n",
      "435:\tlearn: 0.4597627\ttotal: 398ms\tremaining: 515ms\n",
      "436:\tlearn: 0.4596187\ttotal: 399ms\tremaining: 514ms\n",
      "437:\tlearn: 0.4593682\ttotal: 400ms\tremaining: 513ms\n",
      "438:\tlearn: 0.4589419\ttotal: 401ms\tremaining: 513ms\n",
      "439:\tlearn: 0.4588755\ttotal: 402ms\tremaining: 511ms\n",
      "440:\tlearn: 0.4587266\ttotal: 403ms\tremaining: 510ms\n",
      "441:\tlearn: 0.4586995\ttotal: 403ms\tremaining: 509ms\n",
      "442:\tlearn: 0.4586882\ttotal: 404ms\tremaining: 508ms\n",
      "443:\tlearn: 0.4582656\ttotal: 405ms\tremaining: 507ms\n",
      "444:\tlearn: 0.4579435\ttotal: 406ms\tremaining: 506ms\n",
      "445:\tlearn: 0.4577941\ttotal: 406ms\tremaining: 505ms\n",
      "446:\tlearn: 0.4576484\ttotal: 407ms\tremaining: 504ms\n",
      "447:\tlearn: 0.4574848\ttotal: 408ms\tremaining: 503ms\n",
      "448:\tlearn: 0.4573982\ttotal: 409ms\tremaining: 502ms\n",
      "449:\tlearn: 0.4570364\ttotal: 410ms\tremaining: 501ms\n",
      "450:\tlearn: 0.4568279\ttotal: 411ms\tremaining: 500ms\n",
      "451:\tlearn: 0.4565264\ttotal: 412ms\tremaining: 499ms\n",
      "452:\tlearn: 0.4564999\ttotal: 413ms\tremaining: 498ms\n",
      "453:\tlearn: 0.4563161\ttotal: 414ms\tremaining: 497ms\n",
      "454:\tlearn: 0.4563118\ttotal: 414ms\tremaining: 496ms\n",
      "455:\tlearn: 0.4560130\ttotal: 415ms\tremaining: 495ms\n",
      "456:\tlearn: 0.4558949\ttotal: 416ms\tremaining: 494ms\n",
      "457:\tlearn: 0.4556278\ttotal: 417ms\tremaining: 494ms\n",
      "458:\tlearn: 0.4552213\ttotal: 418ms\tremaining: 493ms\n",
      "459:\tlearn: 0.4549125\ttotal: 419ms\tremaining: 492ms\n",
      "460:\tlearn: 0.4546399\ttotal: 420ms\tremaining: 491ms\n",
      "461:\tlearn: 0.4545012\ttotal: 421ms\tremaining: 490ms\n",
      "462:\tlearn: 0.4544380\ttotal: 421ms\tremaining: 489ms\n",
      "463:\tlearn: 0.4543886\ttotal: 422ms\tremaining: 488ms\n",
      "464:\tlearn: 0.4542847\ttotal: 423ms\tremaining: 486ms\n",
      "465:\tlearn: 0.4542747\ttotal: 423ms\tremaining: 485ms\n",
      "466:\tlearn: 0.4538758\ttotal: 424ms\tremaining: 484ms\n",
      "467:\tlearn: 0.4537695\ttotal: 425ms\tremaining: 483ms\n",
      "468:\tlearn: 0.4536319\ttotal: 426ms\tremaining: 482ms\n",
      "469:\tlearn: 0.4535696\ttotal: 426ms\tremaining: 481ms\n",
      "470:\tlearn: 0.4535213\ttotal: 427ms\tremaining: 480ms\n",
      "471:\tlearn: 0.4534026\ttotal: 428ms\tremaining: 479ms\n",
      "472:\tlearn: 0.4533338\ttotal: 429ms\tremaining: 478ms\n",
      "473:\tlearn: 0.4531263\ttotal: 430ms\tremaining: 477ms\n",
      "474:\tlearn: 0.4529078\ttotal: 430ms\tremaining: 476ms\n",
      "475:\tlearn: 0.4527365\ttotal: 431ms\tremaining: 475ms\n",
      "476:\tlearn: 0.4525401\ttotal: 432ms\tremaining: 474ms\n",
      "477:\tlearn: 0.4523149\ttotal: 433ms\tremaining: 473ms\n",
      "478:\tlearn: 0.4523124\ttotal: 434ms\tremaining: 472ms\n",
      "479:\tlearn: 0.4520136\ttotal: 435ms\tremaining: 471ms\n",
      "480:\tlearn: 0.4517329\ttotal: 435ms\tremaining: 470ms\n",
      "481:\tlearn: 0.4516864\ttotal: 436ms\tremaining: 469ms\n",
      "482:\tlearn: 0.4513020\ttotal: 437ms\tremaining: 468ms\n",
      "483:\tlearn: 0.4511126\ttotal: 438ms\tremaining: 467ms\n",
      "484:\tlearn: 0.4509813\ttotal: 438ms\tremaining: 466ms\n",
      "485:\tlearn: 0.4508159\ttotal: 439ms\tremaining: 465ms\n",
      "486:\tlearn: 0.4505681\ttotal: 440ms\tremaining: 464ms\n",
      "487:\tlearn: 0.4504288\ttotal: 441ms\tremaining: 463ms\n",
      "488:\tlearn: 0.4502694\ttotal: 442ms\tremaining: 462ms\n",
      "489:\tlearn: 0.4501537\ttotal: 443ms\tremaining: 461ms\n",
      "490:\tlearn: 0.4500283\ttotal: 444ms\tremaining: 460ms\n",
      "491:\tlearn: 0.4499787\ttotal: 444ms\tremaining: 459ms\n",
      "492:\tlearn: 0.4499690\ttotal: 445ms\tremaining: 458ms\n",
      "493:\tlearn: 0.4498388\ttotal: 446ms\tremaining: 456ms\n",
      "494:\tlearn: 0.4496817\ttotal: 447ms\tremaining: 456ms\n",
      "495:\tlearn: 0.4495751\ttotal: 447ms\tremaining: 455ms\n",
      "496:\tlearn: 0.4493263\ttotal: 448ms\tremaining: 454ms\n",
      "497:\tlearn: 0.4490418\ttotal: 449ms\tremaining: 453ms\n",
      "498:\tlearn: 0.4488166\ttotal: 450ms\tremaining: 452ms\n",
      "499:\tlearn: 0.4486896\ttotal: 451ms\tremaining: 451ms\n",
      "500:\tlearn: 0.4484235\ttotal: 451ms\tremaining: 450ms\n",
      "501:\tlearn: 0.4482980\ttotal: 452ms\tremaining: 449ms\n"
     ]
    },
    {
     "name": "stdout",
     "output_type": "stream",
     "text": [
      "502:\tlearn: 0.4481684\ttotal: 454ms\tremaining: 448ms\n",
      "503:\tlearn: 0.4480438\ttotal: 454ms\tremaining: 447ms\n",
      "504:\tlearn: 0.4477930\ttotal: 455ms\tremaining: 446ms\n",
      "505:\tlearn: 0.4476697\ttotal: 456ms\tremaining: 445ms\n",
      "506:\tlearn: 0.4474208\ttotal: 457ms\tremaining: 444ms\n",
      "507:\tlearn: 0.4473975\ttotal: 458ms\tremaining: 443ms\n",
      "508:\tlearn: 0.4473854\ttotal: 458ms\tremaining: 442ms\n",
      "509:\tlearn: 0.4472635\ttotal: 459ms\tremaining: 441ms\n",
      "510:\tlearn: 0.4472155\ttotal: 460ms\tremaining: 440ms\n",
      "511:\tlearn: 0.4469991\ttotal: 461ms\tremaining: 439ms\n",
      "512:\tlearn: 0.4469965\ttotal: 462ms\tremaining: 438ms\n",
      "513:\tlearn: 0.4468987\ttotal: 462ms\tremaining: 437ms\n",
      "514:\tlearn: 0.4467603\ttotal: 463ms\tremaining: 436ms\n",
      "515:\tlearn: 0.4466359\ttotal: 464ms\tremaining: 435ms\n",
      "516:\tlearn: 0.4465134\ttotal: 465ms\tremaining: 434ms\n",
      "517:\tlearn: 0.4464562\ttotal: 465ms\tremaining: 433ms\n",
      "518:\tlearn: 0.4463964\ttotal: 466ms\tremaining: 432ms\n",
      "519:\tlearn: 0.4463396\ttotal: 467ms\tremaining: 431ms\n",
      "520:\tlearn: 0.4461680\ttotal: 468ms\tremaining: 430ms\n",
      "521:\tlearn: 0.4459958\ttotal: 469ms\tremaining: 429ms\n",
      "522:\tlearn: 0.4458432\ttotal: 469ms\tremaining: 428ms\n",
      "523:\tlearn: 0.4456146\ttotal: 470ms\tremaining: 427ms\n",
      "524:\tlearn: 0.4454690\ttotal: 471ms\tremaining: 426ms\n",
      "525:\tlearn: 0.4452993\ttotal: 472ms\tremaining: 425ms\n",
      "526:\tlearn: 0.4450297\ttotal: 473ms\tremaining: 424ms\n",
      "527:\tlearn: 0.4449110\ttotal: 473ms\tremaining: 423ms\n",
      "528:\tlearn: 0.4448128\ttotal: 474ms\tremaining: 422ms\n",
      "529:\tlearn: 0.4447014\ttotal: 475ms\tremaining: 421ms\n",
      "530:\tlearn: 0.4443911\ttotal: 476ms\tremaining: 420ms\n",
      "531:\tlearn: 0.4442766\ttotal: 476ms\tremaining: 419ms\n",
      "532:\tlearn: 0.4442576\ttotal: 477ms\tremaining: 418ms\n",
      "533:\tlearn: 0.4441385\ttotal: 478ms\tremaining: 417ms\n",
      "534:\tlearn: 0.4440248\ttotal: 479ms\tremaining: 416ms\n",
      "535:\tlearn: 0.4437779\ttotal: 480ms\tremaining: 415ms\n",
      "536:\tlearn: 0.4436122\ttotal: 480ms\tremaining: 414ms\n",
      "537:\tlearn: 0.4434909\ttotal: 481ms\tremaining: 413ms\n",
      "538:\tlearn: 0.4433017\ttotal: 482ms\tremaining: 412ms\n",
      "539:\tlearn: 0.4431201\ttotal: 483ms\tremaining: 411ms\n",
      "540:\tlearn: 0.4430084\ttotal: 483ms\tremaining: 410ms\n",
      "541:\tlearn: 0.4428278\ttotal: 484ms\tremaining: 409ms\n",
      "542:\tlearn: 0.4428057\ttotal: 485ms\tremaining: 408ms\n",
      "543:\tlearn: 0.4427032\ttotal: 486ms\tremaining: 407ms\n",
      "544:\tlearn: 0.4425402\ttotal: 487ms\tremaining: 406ms\n",
      "545:\tlearn: 0.4422013\ttotal: 487ms\tremaining: 405ms\n",
      "546:\tlearn: 0.4420869\ttotal: 488ms\tremaining: 404ms\n",
      "547:\tlearn: 0.4420334\ttotal: 489ms\tremaining: 403ms\n",
      "548:\tlearn: 0.4419802\ttotal: 490ms\tremaining: 402ms\n",
      "549:\tlearn: 0.4419202\ttotal: 490ms\tremaining: 401ms\n",
      "550:\tlearn: 0.4416630\ttotal: 491ms\tremaining: 400ms\n",
      "551:\tlearn: 0.4416195\ttotal: 492ms\tremaining: 399ms\n",
      "552:\tlearn: 0.4413637\ttotal: 493ms\tremaining: 398ms\n",
      "553:\tlearn: 0.4412211\ttotal: 494ms\tremaining: 397ms\n",
      "554:\tlearn: 0.4411043\ttotal: 494ms\tremaining: 396ms\n",
      "555:\tlearn: 0.4409821\ttotal: 495ms\tremaining: 395ms\n",
      "556:\tlearn: 0.4408464\ttotal: 496ms\tremaining: 394ms\n",
      "557:\tlearn: 0.4408101\ttotal: 497ms\tremaining: 393ms\n",
      "558:\tlearn: 0.4405574\ttotal: 497ms\tremaining: 392ms\n",
      "559:\tlearn: 0.4404248\ttotal: 498ms\tremaining: 392ms\n",
      "560:\tlearn: 0.4401916\ttotal: 499ms\tremaining: 391ms\n",
      "561:\tlearn: 0.4399596\ttotal: 500ms\tremaining: 390ms\n",
      "562:\tlearn: 0.4397944\ttotal: 501ms\tremaining: 389ms\n",
      "563:\tlearn: 0.4396381\ttotal: 502ms\tremaining: 388ms\n",
      "564:\tlearn: 0.4396295\ttotal: 502ms\tremaining: 387ms\n",
      "565:\tlearn: 0.4395991\ttotal: 503ms\tremaining: 386ms\n",
      "566:\tlearn: 0.4393091\ttotal: 504ms\tremaining: 385ms\n",
      "567:\tlearn: 0.4392578\ttotal: 505ms\tremaining: 384ms\n",
      "568:\tlearn: 0.4390294\ttotal: 506ms\tremaining: 383ms\n",
      "569:\tlearn: 0.4389335\ttotal: 507ms\tremaining: 382ms\n",
      "570:\tlearn: 0.4389264\ttotal: 507ms\tremaining: 381ms\n",
      "571:\tlearn: 0.4388200\ttotal: 508ms\tremaining: 380ms\n",
      "572:\tlearn: 0.4387989\ttotal: 509ms\tremaining: 379ms\n",
      "573:\tlearn: 0.4387516\ttotal: 510ms\tremaining: 378ms\n",
      "574:\tlearn: 0.4386222\ttotal: 510ms\tremaining: 377ms\n",
      "575:\tlearn: 0.4385863\ttotal: 511ms\tremaining: 376ms\n",
      "576:\tlearn: 0.4385128\ttotal: 512ms\tremaining: 375ms\n",
      "577:\tlearn: 0.4384923\ttotal: 512ms\tremaining: 374ms\n",
      "578:\tlearn: 0.4382923\ttotal: 513ms\tremaining: 373ms\n",
      "579:\tlearn: 0.4381894\ttotal: 514ms\tremaining: 372ms\n",
      "580:\tlearn: 0.4380935\ttotal: 515ms\tremaining: 371ms\n",
      "581:\tlearn: 0.4379828\ttotal: 516ms\tremaining: 370ms\n",
      "582:\tlearn: 0.4377420\ttotal: 516ms\tremaining: 369ms\n",
      "583:\tlearn: 0.4376402\ttotal: 517ms\tremaining: 368ms\n",
      "584:\tlearn: 0.4375558\ttotal: 518ms\tremaining: 367ms\n",
      "585:\tlearn: 0.4374616\ttotal: 519ms\tremaining: 366ms\n",
      "586:\tlearn: 0.4373693\ttotal: 520ms\tremaining: 366ms\n",
      "587:\tlearn: 0.4372453\ttotal: 520ms\tremaining: 365ms\n",
      "588:\tlearn: 0.4371534\ttotal: 521ms\tremaining: 364ms\n",
      "589:\tlearn: 0.4370604\ttotal: 522ms\tremaining: 363ms\n",
      "590:\tlearn: 0.4368244\ttotal: 523ms\tremaining: 362ms\n",
      "591:\tlearn: 0.4368180\ttotal: 523ms\tremaining: 361ms\n",
      "592:\tlearn: 0.4367317\ttotal: 524ms\tremaining: 360ms\n",
      "593:\tlearn: 0.4366677\ttotal: 525ms\tremaining: 359ms\n",
      "594:\tlearn: 0.4365708\ttotal: 525ms\tremaining: 358ms\n",
      "595:\tlearn: 0.4365320\ttotal: 526ms\tremaining: 357ms\n",
      "596:\tlearn: 0.4362213\ttotal: 527ms\tremaining: 356ms\n",
      "597:\tlearn: 0.4360456\ttotal: 528ms\tremaining: 355ms\n",
      "598:\tlearn: 0.4359500\ttotal: 529ms\tremaining: 354ms\n",
      "599:\tlearn: 0.4359438\ttotal: 529ms\tremaining: 353ms\n",
      "600:\tlearn: 0.4359044\ttotal: 530ms\tremaining: 352ms\n",
      "601:\tlearn: 0.4356672\ttotal: 531ms\tremaining: 351ms\n",
      "602:\tlearn: 0.4355724\ttotal: 531ms\tremaining: 350ms\n",
      "603:\tlearn: 0.4355452\ttotal: 532ms\tremaining: 349ms\n",
      "604:\tlearn: 0.4354610\ttotal: 533ms\tremaining: 348ms\n",
      "605:\tlearn: 0.4354107\ttotal: 533ms\tremaining: 347ms\n",
      "606:\tlearn: 0.4353838\ttotal: 534ms\tremaining: 346ms\n",
      "607:\tlearn: 0.4353056\ttotal: 535ms\tremaining: 345ms\n",
      "608:\tlearn: 0.4352087\ttotal: 536ms\tremaining: 344ms\n",
      "609:\tlearn: 0.4350299\ttotal: 536ms\tremaining: 343ms\n",
      "610:\tlearn: 0.4349188\ttotal: 537ms\tremaining: 342ms\n",
      "611:\tlearn: 0.4347768\ttotal: 538ms\tremaining: 341ms\n",
      "612:\tlearn: 0.4346999\ttotal: 538ms\tremaining: 340ms\n",
      "613:\tlearn: 0.4346049\ttotal: 539ms\tremaining: 339ms\n",
      "614:\tlearn: 0.4345991\ttotal: 540ms\tremaining: 338ms\n",
      "615:\tlearn: 0.4345737\ttotal: 540ms\tremaining: 337ms\n",
      "616:\tlearn: 0.4343966\ttotal: 541ms\tremaining: 336ms\n",
      "617:\tlearn: 0.4343341\ttotal: 542ms\tremaining: 335ms\n",
      "618:\tlearn: 0.4343114\ttotal: 543ms\tremaining: 334ms\n",
      "619:\tlearn: 0.4341962\ttotal: 544ms\tremaining: 333ms\n",
      "620:\tlearn: 0.4341151\ttotal: 544ms\tremaining: 332ms\n",
      "621:\tlearn: 0.4340345\ttotal: 545ms\tremaining: 331ms\n",
      "622:\tlearn: 0.4339699\ttotal: 546ms\tremaining: 330ms\n",
      "623:\tlearn: 0.4338850\ttotal: 546ms\tremaining: 329ms\n",
      "624:\tlearn: 0.4337183\ttotal: 547ms\tremaining: 328ms\n",
      "625:\tlearn: 0.4334950\ttotal: 548ms\tremaining: 328ms\n",
      "626:\tlearn: 0.4334111\ttotal: 549ms\tremaining: 327ms\n",
      "627:\tlearn: 0.4333960\ttotal: 550ms\tremaining: 326ms\n",
      "628:\tlearn: 0.4331743\ttotal: 551ms\tremaining: 325ms\n",
      "629:\tlearn: 0.4331532\ttotal: 551ms\tremaining: 324ms\n",
      "630:\tlearn: 0.4330609\ttotal: 552ms\tremaining: 323ms\n",
      "631:\tlearn: 0.4329226\ttotal: 553ms\tremaining: 322ms\n",
      "632:\tlearn: 0.4328494\ttotal: 554ms\tremaining: 321ms\n",
      "633:\tlearn: 0.4326831\ttotal: 554ms\tremaining: 320ms\n",
      "634:\tlearn: 0.4326084\ttotal: 555ms\tremaining: 319ms\n",
      "635:\tlearn: 0.4323903\ttotal: 556ms\tremaining: 318ms\n",
      "636:\tlearn: 0.4322074\ttotal: 557ms\tremaining: 317ms\n",
      "637:\tlearn: 0.4321165\ttotal: 558ms\tremaining: 317ms\n",
      "638:\tlearn: 0.4319348\ttotal: 559ms\tremaining: 316ms\n",
      "639:\tlearn: 0.4319205\ttotal: 559ms\tremaining: 315ms\n",
      "640:\tlearn: 0.4318694\ttotal: 560ms\tremaining: 314ms\n",
      "641:\tlearn: 0.4317775\ttotal: 561ms\tremaining: 313ms\n",
      "642:\tlearn: 0.4317485\ttotal: 561ms\tremaining: 312ms\n",
      "643:\tlearn: 0.4316855\ttotal: 562ms\tremaining: 311ms\n",
      "644:\tlearn: 0.4313982\ttotal: 563ms\tremaining: 310ms\n",
      "645:\tlearn: 0.4313479\ttotal: 564ms\tremaining: 309ms\n",
      "646:\tlearn: 0.4312681\ttotal: 564ms\tremaining: 308ms\n",
      "647:\tlearn: 0.4311652\ttotal: 565ms\tremaining: 307ms\n",
      "648:\tlearn: 0.4310178\ttotal: 566ms\tremaining: 306ms\n",
      "649:\tlearn: 0.4309333\ttotal: 567ms\tremaining: 305ms\n",
      "650:\tlearn: 0.4307166\ttotal: 567ms\tremaining: 304ms\n",
      "651:\tlearn: 0.4306810\ttotal: 568ms\tremaining: 303ms\n",
      "652:\tlearn: 0.4305487\ttotal: 569ms\tremaining: 302ms\n",
      "653:\tlearn: 0.4303598\ttotal: 570ms\tremaining: 301ms\n",
      "654:\tlearn: 0.4302028\ttotal: 570ms\tremaining: 300ms\n",
      "655:\tlearn: 0.4300972\ttotal: 571ms\tremaining: 299ms\n",
      "656:\tlearn: 0.4300966\ttotal: 572ms\tremaining: 298ms\n",
      "657:\tlearn: 0.4300254\ttotal: 572ms\tremaining: 298ms\n",
      "658:\tlearn: 0.4299214\ttotal: 573ms\tremaining: 297ms\n",
      "659:\tlearn: 0.4298237\ttotal: 574ms\tremaining: 296ms\n",
      "660:\tlearn: 0.4296707\ttotal: 575ms\tremaining: 295ms\n",
      "661:\tlearn: 0.4294590\ttotal: 575ms\tremaining: 294ms\n",
      "662:\tlearn: 0.4293715\ttotal: 576ms\tremaining: 293ms\n",
      "663:\tlearn: 0.4292442\ttotal: 577ms\tremaining: 292ms\n",
      "664:\tlearn: 0.4292370\ttotal: 577ms\tremaining: 291ms\n",
      "665:\tlearn: 0.4292158\ttotal: 578ms\tremaining: 290ms\n",
      "666:\tlearn: 0.4291417\ttotal: 578ms\tremaining: 289ms\n",
      "667:\tlearn: 0.4291372\ttotal: 579ms\tremaining: 288ms\n",
      "668:\tlearn: 0.4290545\ttotal: 579ms\tremaining: 287ms\n",
      "669:\tlearn: 0.4288635\ttotal: 580ms\tremaining: 286ms\n",
      "670:\tlearn: 0.4288184\ttotal: 581ms\tremaining: 285ms\n",
      "671:\tlearn: 0.4286671\ttotal: 582ms\tremaining: 284ms\n",
      "672:\tlearn: 0.4286543\ttotal: 582ms\tremaining: 283ms\n",
      "673:\tlearn: 0.4284443\ttotal: 583ms\tremaining: 282ms\n",
      "674:\tlearn: 0.4283720\ttotal: 583ms\tremaining: 281ms\n",
      "675:\tlearn: 0.4281634\ttotal: 584ms\tremaining: 280ms\n",
      "676:\tlearn: 0.4281456\ttotal: 585ms\tremaining: 279ms\n",
      "677:\tlearn: 0.4281028\ttotal: 585ms\tremaining: 278ms\n",
      "678:\tlearn: 0.4280180\ttotal: 586ms\tremaining: 277ms\n",
      "679:\tlearn: 0.4278690\ttotal: 587ms\tremaining: 276ms\n",
      "680:\tlearn: 0.4278026\ttotal: 587ms\tremaining: 275ms\n",
      "681:\tlearn: 0.4278009\ttotal: 588ms\tremaining: 274ms\n",
      "682:\tlearn: 0.4276405\ttotal: 588ms\tremaining: 273ms\n",
      "683:\tlearn: 0.4275695\ttotal: 589ms\tremaining: 272ms\n",
      "684:\tlearn: 0.4273655\ttotal: 590ms\tremaining: 271ms\n",
      "685:\tlearn: 0.4272683\ttotal: 590ms\tremaining: 270ms\n",
      "686:\tlearn: 0.4272262\ttotal: 591ms\tremaining: 269ms\n",
      "687:\tlearn: 0.4270420\ttotal: 592ms\tremaining: 268ms\n",
      "688:\tlearn: 0.4269218\ttotal: 593ms\tremaining: 267ms\n",
      "689:\tlearn: 0.4268994\ttotal: 593ms\tremaining: 266ms\n",
      "690:\tlearn: 0.4268044\ttotal: 594ms\tremaining: 266ms\n",
      "691:\tlearn: 0.4267090\ttotal: 594ms\tremaining: 265ms\n",
      "692:\tlearn: 0.4266968\ttotal: 595ms\tremaining: 264ms\n",
      "693:\tlearn: 0.4266279\ttotal: 596ms\tremaining: 263ms\n",
      "694:\tlearn: 0.4266159\ttotal: 596ms\tremaining: 262ms\n",
      "695:\tlearn: 0.4263530\ttotal: 597ms\tremaining: 261ms\n",
      "696:\tlearn: 0.4263118\ttotal: 597ms\tremaining: 260ms\n",
      "697:\tlearn: 0.4262308\ttotal: 598ms\tremaining: 259ms\n",
      "698:\tlearn: 0.4261573\ttotal: 599ms\tremaining: 258ms\n",
      "699:\tlearn: 0.4260842\ttotal: 599ms\tremaining: 257ms\n",
      "700:\tlearn: 0.4259655\ttotal: 600ms\tremaining: 256ms\n",
      "701:\tlearn: 0.4258236\ttotal: 601ms\tremaining: 255ms\n",
      "702:\tlearn: 0.4257492\ttotal: 601ms\tremaining: 254ms\n",
      "703:\tlearn: 0.4256769\ttotal: 602ms\tremaining: 253ms\n",
      "704:\tlearn: 0.4255597\ttotal: 603ms\tremaining: 252ms\n",
      "705:\tlearn: 0.4254668\ttotal: 603ms\tremaining: 251ms\n",
      "706:\tlearn: 0.4254555\ttotal: 604ms\tremaining: 250ms\n",
      "707:\tlearn: 0.4252542\ttotal: 604ms\tremaining: 249ms\n"
     ]
    },
    {
     "name": "stdout",
     "output_type": "stream",
     "text": [
      "708:\tlearn: 0.4251741\ttotal: 606ms\tremaining: 249ms\n",
      "709:\tlearn: 0.4251086\ttotal: 606ms\tremaining: 248ms\n",
      "710:\tlearn: 0.4249484\ttotal: 607ms\tremaining: 247ms\n",
      "711:\tlearn: 0.4247947\ttotal: 608ms\tremaining: 246ms\n",
      "712:\tlearn: 0.4247297\ttotal: 609ms\tremaining: 245ms\n",
      "713:\tlearn: 0.4245712\ttotal: 610ms\tremaining: 244ms\n",
      "714:\tlearn: 0.4245602\ttotal: 610ms\tremaining: 243ms\n",
      "715:\tlearn: 0.4245433\ttotal: 611ms\tremaining: 242ms\n",
      "716:\tlearn: 0.4244190\ttotal: 612ms\tremaining: 241ms\n",
      "717:\tlearn: 0.4242927\ttotal: 612ms\tremaining: 241ms\n",
      "718:\tlearn: 0.4242760\ttotal: 613ms\tremaining: 240ms\n",
      "719:\tlearn: 0.4242501\ttotal: 614ms\tremaining: 239ms\n",
      "720:\tlearn: 0.4241749\ttotal: 614ms\tremaining: 238ms\n",
      "721:\tlearn: 0.4240626\ttotal: 615ms\tremaining: 237ms\n",
      "722:\tlearn: 0.4240452\ttotal: 616ms\tremaining: 236ms\n",
      "723:\tlearn: 0.4239960\ttotal: 617ms\tremaining: 235ms\n",
      "724:\tlearn: 0.4239004\ttotal: 617ms\tremaining: 234ms\n",
      "725:\tlearn: 0.4238099\ttotal: 618ms\tremaining: 233ms\n",
      "726:\tlearn: 0.4237848\ttotal: 619ms\tremaining: 232ms\n",
      "727:\tlearn: 0.4236715\ttotal: 620ms\tremaining: 232ms\n",
      "728:\tlearn: 0.4236115\ttotal: 620ms\tremaining: 231ms\n",
      "729:\tlearn: 0.4235351\ttotal: 621ms\tremaining: 230ms\n",
      "730:\tlearn: 0.4233994\ttotal: 622ms\tremaining: 229ms\n",
      "731:\tlearn: 0.4232356\ttotal: 623ms\tremaining: 228ms\n",
      "732:\tlearn: 0.4231097\ttotal: 624ms\tremaining: 227ms\n",
      "733:\tlearn: 0.4230853\ttotal: 624ms\tremaining: 226ms\n",
      "734:\tlearn: 0.4230152\ttotal: 625ms\tremaining: 225ms\n",
      "735:\tlearn: 0.4228649\ttotal: 626ms\tremaining: 225ms\n",
      "736:\tlearn: 0.4228205\ttotal: 627ms\tremaining: 224ms\n",
      "737:\tlearn: 0.4227000\ttotal: 628ms\tremaining: 223ms\n",
      "738:\tlearn: 0.4226145\ttotal: 628ms\tremaining: 222ms\n",
      "739:\tlearn: 0.4223876\ttotal: 629ms\tremaining: 221ms\n",
      "740:\tlearn: 0.4223552\ttotal: 630ms\tremaining: 220ms\n",
      "741:\tlearn: 0.4223390\ttotal: 631ms\tremaining: 219ms\n",
      "742:\tlearn: 0.4222519\ttotal: 632ms\tremaining: 219ms\n",
      "743:\tlearn: 0.4220268\ttotal: 633ms\tremaining: 218ms\n",
      "744:\tlearn: 0.4219687\ttotal: 633ms\tremaining: 217ms\n",
      "745:\tlearn: 0.4218335\ttotal: 634ms\tremaining: 216ms\n",
      "746:\tlearn: 0.4218175\ttotal: 634ms\tremaining: 215ms\n",
      "747:\tlearn: 0.4217473\ttotal: 635ms\tremaining: 214ms\n",
      "748:\tlearn: 0.4216285\ttotal: 636ms\tremaining: 213ms\n",
      "749:\tlearn: 0.4214521\ttotal: 637ms\tremaining: 212ms\n",
      "750:\tlearn: 0.4214300\ttotal: 637ms\tremaining: 211ms\n",
      "751:\tlearn: 0.4211911\ttotal: 638ms\tremaining: 210ms\n",
      "752:\tlearn: 0.4210699\ttotal: 639ms\tremaining: 210ms\n",
      "753:\tlearn: 0.4210319\ttotal: 639ms\tremaining: 209ms\n",
      "754:\tlearn: 0.4208512\ttotal: 640ms\tremaining: 208ms\n",
      "755:\tlearn: 0.4208511\ttotal: 641ms\tremaining: 207ms\n",
      "756:\tlearn: 0.4207489\ttotal: 642ms\tremaining: 206ms\n",
      "757:\tlearn: 0.4206932\ttotal: 642ms\tremaining: 205ms\n",
      "758:\tlearn: 0.4206318\ttotal: 643ms\tremaining: 204ms\n",
      "759:\tlearn: 0.4205284\ttotal: 644ms\tremaining: 203ms\n",
      "760:\tlearn: 0.4203848\ttotal: 645ms\tremaining: 202ms\n",
      "761:\tlearn: 0.4203137\ttotal: 645ms\tremaining: 202ms\n",
      "762:\tlearn: 0.4202473\ttotal: 646ms\tremaining: 201ms\n",
      "763:\tlearn: 0.4201119\ttotal: 647ms\tremaining: 200ms\n",
      "764:\tlearn: 0.4199682\ttotal: 647ms\tremaining: 199ms\n",
      "765:\tlearn: 0.4198167\ttotal: 648ms\tremaining: 198ms\n",
      "766:\tlearn: 0.4196941\ttotal: 649ms\tremaining: 197ms\n",
      "767:\tlearn: 0.4196268\ttotal: 650ms\tremaining: 196ms\n",
      "768:\tlearn: 0.4195598\ttotal: 650ms\tremaining: 195ms\n",
      "769:\tlearn: 0.4194180\ttotal: 651ms\tremaining: 195ms\n",
      "770:\tlearn: 0.4193490\ttotal: 652ms\tremaining: 194ms\n",
      "771:\tlearn: 0.4191582\ttotal: 653ms\tremaining: 193ms\n",
      "772:\tlearn: 0.4190801\ttotal: 653ms\tremaining: 192ms\n",
      "773:\tlearn: 0.4189983\ttotal: 654ms\tremaining: 191ms\n",
      "774:\tlearn: 0.4189282\ttotal: 655ms\tremaining: 190ms\n",
      "775:\tlearn: 0.4188911\ttotal: 656ms\tremaining: 189ms\n",
      "776:\tlearn: 0.4187186\ttotal: 656ms\tremaining: 188ms\n",
      "777:\tlearn: 0.4186377\ttotal: 657ms\tremaining: 188ms\n",
      "778:\tlearn: 0.4185789\ttotal: 658ms\tremaining: 187ms\n",
      "779:\tlearn: 0.4184397\ttotal: 659ms\tremaining: 186ms\n",
      "780:\tlearn: 0.4184368\ttotal: 659ms\tremaining: 185ms\n",
      "781:\tlearn: 0.4184001\ttotal: 660ms\tremaining: 184ms\n",
      "782:\tlearn: 0.4183636\ttotal: 661ms\tremaining: 183ms\n",
      "783:\tlearn: 0.4182316\ttotal: 662ms\tremaining: 182ms\n",
      "784:\tlearn: 0.4181054\ttotal: 662ms\tremaining: 181ms\n",
      "785:\tlearn: 0.4180478\ttotal: 663ms\tremaining: 181ms\n",
      "786:\tlearn: 0.4178393\ttotal: 664ms\tremaining: 180ms\n",
      "787:\tlearn: 0.4176875\ttotal: 665ms\tremaining: 179ms\n",
      "788:\tlearn: 0.4176519\ttotal: 666ms\tremaining: 178ms\n",
      "789:\tlearn: 0.4175854\ttotal: 666ms\tremaining: 177ms\n",
      "790:\tlearn: 0.4175795\ttotal: 667ms\tremaining: 176ms\n",
      "791:\tlearn: 0.4175228\ttotal: 668ms\tremaining: 175ms\n",
      "792:\tlearn: 0.4173863\ttotal: 669ms\tremaining: 175ms\n",
      "793:\tlearn: 0.4173712\ttotal: 669ms\tremaining: 174ms\n",
      "794:\tlearn: 0.4172211\ttotal: 670ms\tremaining: 173ms\n",
      "795:\tlearn: 0.4171891\ttotal: 671ms\tremaining: 172ms\n",
      "796:\tlearn: 0.4169694\ttotal: 672ms\tremaining: 171ms\n",
      "797:\tlearn: 0.4168418\ttotal: 672ms\tremaining: 170ms\n",
      "798:\tlearn: 0.4168009\ttotal: 673ms\tremaining: 169ms\n",
      "799:\tlearn: 0.4167494\ttotal: 674ms\tremaining: 168ms\n",
      "800:\tlearn: 0.4165841\ttotal: 675ms\tremaining: 168ms\n",
      "801:\tlearn: 0.4165070\ttotal: 675ms\tremaining: 167ms\n",
      "802:\tlearn: 0.4164321\ttotal: 676ms\tremaining: 166ms\n",
      "803:\tlearn: 0.4164128\ttotal: 677ms\tremaining: 165ms\n",
      "804:\tlearn: 0.4163045\ttotal: 678ms\tremaining: 164ms\n",
      "805:\tlearn: 0.4162861\ttotal: 678ms\tremaining: 163ms\n",
      "806:\tlearn: 0.4162256\ttotal: 679ms\tremaining: 162ms\n",
      "807:\tlearn: 0.4161200\ttotal: 680ms\tremaining: 162ms\n",
      "808:\tlearn: 0.4160460\ttotal: 680ms\tremaining: 161ms\n",
      "809:\tlearn: 0.4159860\ttotal: 681ms\tremaining: 160ms\n",
      "810:\tlearn: 0.4159317\ttotal: 682ms\tremaining: 159ms\n",
      "811:\tlearn: 0.4158812\ttotal: 683ms\tremaining: 158ms\n",
      "812:\tlearn: 0.4158700\ttotal: 683ms\tremaining: 157ms\n",
      "813:\tlearn: 0.4157967\ttotal: 684ms\tremaining: 156ms\n",
      "814:\tlearn: 0.4157251\ttotal: 685ms\tremaining: 155ms\n",
      "815:\tlearn: 0.4156187\ttotal: 686ms\tremaining: 155ms\n",
      "816:\tlearn: 0.4155826\ttotal: 686ms\tremaining: 154ms\n",
      "817:\tlearn: 0.4155329\ttotal: 687ms\tremaining: 153ms\n",
      "818:\tlearn: 0.4154834\ttotal: 688ms\tremaining: 152ms\n",
      "819:\tlearn: 0.4154255\ttotal: 688ms\tremaining: 151ms\n",
      "820:\tlearn: 0.4152969\ttotal: 689ms\tremaining: 150ms\n",
      "821:\tlearn: 0.4151302\ttotal: 690ms\tremaining: 149ms\n",
      "822:\tlearn: 0.4150813\ttotal: 691ms\tremaining: 149ms\n",
      "823:\tlearn: 0.4149505\ttotal: 692ms\tremaining: 148ms\n",
      "824:\tlearn: 0.4149480\ttotal: 692ms\tremaining: 147ms\n",
      "825:\tlearn: 0.4149291\ttotal: 693ms\tremaining: 146ms\n",
      "826:\tlearn: 0.4149148\ttotal: 694ms\tremaining: 145ms\n",
      "827:\tlearn: 0.4147909\ttotal: 694ms\tremaining: 144ms\n",
      "828:\tlearn: 0.4146980\ttotal: 695ms\tremaining: 143ms\n",
      "829:\tlearn: 0.4146253\ttotal: 696ms\tremaining: 142ms\n",
      "830:\tlearn: 0.4146089\ttotal: 696ms\tremaining: 142ms\n",
      "831:\tlearn: 0.4144573\ttotal: 697ms\tremaining: 141ms\n",
      "832:\tlearn: 0.4143222\ttotal: 698ms\tremaining: 140ms\n",
      "833:\tlearn: 0.4141595\ttotal: 698ms\tremaining: 139ms\n",
      "834:\tlearn: 0.4140803\ttotal: 699ms\tremaining: 138ms\n",
      "835:\tlearn: 0.4139741\ttotal: 700ms\tremaining: 137ms\n",
      "836:\tlearn: 0.4139021\ttotal: 700ms\tremaining: 136ms\n",
      "837:\tlearn: 0.4136966\ttotal: 701ms\tremaining: 136ms\n",
      "838:\tlearn: 0.4135880\ttotal: 702ms\tremaining: 135ms\n",
      "839:\tlearn: 0.4134905\ttotal: 703ms\tremaining: 134ms\n",
      "840:\tlearn: 0.4134295\ttotal: 703ms\tremaining: 133ms\n",
      "841:\tlearn: 0.4133067\ttotal: 704ms\tremaining: 132ms\n",
      "842:\tlearn: 0.4132370\ttotal: 705ms\tremaining: 131ms\n",
      "843:\tlearn: 0.4130922\ttotal: 706ms\tremaining: 130ms\n",
      "844:\tlearn: 0.4130162\ttotal: 706ms\tremaining: 130ms\n",
      "845:\tlearn: 0.4129389\ttotal: 707ms\tremaining: 129ms\n",
      "846:\tlearn: 0.4129117\ttotal: 708ms\tremaining: 128ms\n",
      "847:\tlearn: 0.4128690\ttotal: 708ms\tremaining: 127ms\n",
      "848:\tlearn: 0.4127383\ttotal: 709ms\tremaining: 126ms\n",
      "849:\tlearn: 0.4126931\ttotal: 710ms\tremaining: 125ms\n",
      "850:\tlearn: 0.4125926\ttotal: 710ms\tremaining: 124ms\n",
      "851:\tlearn: 0.4124577\ttotal: 711ms\tremaining: 124ms\n",
      "852:\tlearn: 0.4124400\ttotal: 712ms\tremaining: 123ms\n",
      "853:\tlearn: 0.4122885\ttotal: 712ms\tremaining: 122ms\n",
      "854:\tlearn: 0.4122301\ttotal: 713ms\tremaining: 121ms\n",
      "855:\tlearn: 0.4121609\ttotal: 714ms\tremaining: 120ms\n",
      "856:\tlearn: 0.4121004\ttotal: 715ms\tremaining: 119ms\n",
      "857:\tlearn: 0.4119671\ttotal: 715ms\tremaining: 118ms\n",
      "858:\tlearn: 0.4119537\ttotal: 716ms\tremaining: 118ms\n",
      "859:\tlearn: 0.4118210\ttotal: 717ms\tremaining: 117ms\n",
      "860:\tlearn: 0.4117239\ttotal: 718ms\tremaining: 116ms\n",
      "861:\tlearn: 0.4116505\ttotal: 718ms\tremaining: 115ms\n",
      "862:\tlearn: 0.4115994\ttotal: 719ms\tremaining: 114ms\n",
      "863:\tlearn: 0.4114719\ttotal: 720ms\tremaining: 113ms\n",
      "864:\tlearn: 0.4113522\ttotal: 721ms\tremaining: 112ms\n",
      "865:\tlearn: 0.4112851\ttotal: 721ms\tremaining: 112ms\n",
      "866:\tlearn: 0.4111322\ttotal: 722ms\tremaining: 111ms\n",
      "867:\tlearn: 0.4110809\ttotal: 722ms\tremaining: 110ms\n",
      "868:\tlearn: 0.4108875\ttotal: 723ms\tremaining: 109ms\n",
      "869:\tlearn: 0.4108343\ttotal: 724ms\tremaining: 108ms\n",
      "870:\tlearn: 0.4106972\ttotal: 725ms\tremaining: 107ms\n",
      "871:\tlearn: 0.4106163\ttotal: 725ms\tremaining: 106ms\n",
      "872:\tlearn: 0.4105083\ttotal: 726ms\tremaining: 106ms\n",
      "873:\tlearn: 0.4104246\ttotal: 727ms\tremaining: 105ms\n",
      "874:\tlearn: 0.4103288\ttotal: 727ms\tremaining: 104ms\n",
      "875:\tlearn: 0.4102848\ttotal: 728ms\tremaining: 103ms\n",
      "876:\tlearn: 0.4101877\ttotal: 729ms\tremaining: 102ms\n",
      "877:\tlearn: 0.4101309\ttotal: 729ms\tremaining: 101ms\n",
      "878:\tlearn: 0.4101136\ttotal: 730ms\tremaining: 100ms\n",
      "879:\tlearn: 0.4099862\ttotal: 731ms\tremaining: 99.6ms\n",
      "880:\tlearn: 0.4099764\ttotal: 731ms\tremaining: 98.8ms\n",
      "881:\tlearn: 0.4099705\ttotal: 732ms\tremaining: 97.9ms\n",
      "882:\tlearn: 0.4099174\ttotal: 732ms\tremaining: 97ms\n",
      "883:\tlearn: 0.4098812\ttotal: 733ms\tremaining: 96.2ms\n",
      "884:\tlearn: 0.4097742\ttotal: 734ms\tremaining: 95.3ms\n",
      "885:\tlearn: 0.4097066\ttotal: 734ms\tremaining: 94.5ms\n",
      "886:\tlearn: 0.4097000\ttotal: 735ms\tremaining: 93.6ms\n",
      "887:\tlearn: 0.4096051\ttotal: 735ms\tremaining: 92.8ms\n",
      "888:\tlearn: 0.4095899\ttotal: 736ms\tremaining: 91.9ms\n",
      "889:\tlearn: 0.4094843\ttotal: 737ms\tremaining: 91.1ms\n",
      "890:\tlearn: 0.4094421\ttotal: 737ms\tremaining: 90.2ms\n",
      "891:\tlearn: 0.4094063\ttotal: 738ms\tremaining: 89.4ms\n",
      "892:\tlearn: 0.4094012\ttotal: 738ms\tremaining: 88.5ms\n",
      "893:\tlearn: 0.4093953\ttotal: 739ms\tremaining: 87.6ms\n",
      "894:\tlearn: 0.4092538\ttotal: 740ms\tremaining: 86.8ms\n",
      "895:\tlearn: 0.4090783\ttotal: 740ms\tremaining: 85.9ms\n",
      "896:\tlearn: 0.4089341\ttotal: 741ms\tremaining: 85.1ms\n",
      "897:\tlearn: 0.4087944\ttotal: 742ms\tremaining: 84.3ms\n",
      "898:\tlearn: 0.4087886\ttotal: 742ms\tremaining: 83.4ms\n",
      "899:\tlearn: 0.4087470\ttotal: 743ms\tremaining: 82.6ms\n",
      "900:\tlearn: 0.4086433\ttotal: 744ms\tremaining: 81.7ms\n",
      "901:\tlearn: 0.4085750\ttotal: 744ms\tremaining: 80.9ms\n",
      "902:\tlearn: 0.4085121\ttotal: 745ms\tremaining: 80ms\n",
      "903:\tlearn: 0.4084822\ttotal: 746ms\tremaining: 79.2ms\n",
      "904:\tlearn: 0.4084061\ttotal: 746ms\tremaining: 78.4ms\n",
      "905:\tlearn: 0.4083765\ttotal: 747ms\tremaining: 77.5ms\n",
      "906:\tlearn: 0.4082788\ttotal: 748ms\tremaining: 76.7ms\n",
      "907:\tlearn: 0.4081280\ttotal: 748ms\tremaining: 75.8ms\n",
      "908:\tlearn: 0.4080883\ttotal: 749ms\tremaining: 75ms\n",
      "909:\tlearn: 0.4080100\ttotal: 750ms\tremaining: 74.1ms\n",
      "910:\tlearn: 0.4078397\ttotal: 750ms\tremaining: 73.3ms\n",
      "911:\tlearn: 0.4077035\ttotal: 751ms\tremaining: 72.5ms\n",
      "912:\tlearn: 0.4076913\ttotal: 752ms\tremaining: 71.7ms\n",
      "913:\tlearn: 0.4076028\ttotal: 753ms\tremaining: 70.8ms\n",
      "914:\tlearn: 0.4074833\ttotal: 754ms\tremaining: 70ms\n",
      "915:\tlearn: 0.4074296\ttotal: 754ms\tremaining: 69.2ms\n"
     ]
    },
    {
     "name": "stdout",
     "output_type": "stream",
     "text": [
      "916:\tlearn: 0.4073746\ttotal: 756ms\tremaining: 68.4ms\n",
      "917:\tlearn: 0.4073745\ttotal: 756ms\tremaining: 67.5ms\n",
      "918:\tlearn: 0.4073726\ttotal: 757ms\tremaining: 66.7ms\n",
      "919:\tlearn: 0.4073293\ttotal: 757ms\tremaining: 65.9ms\n",
      "920:\tlearn: 0.4073274\ttotal: 758ms\tremaining: 65ms\n",
      "921:\tlearn: 0.4072745\ttotal: 759ms\tremaining: 64.2ms\n",
      "922:\tlearn: 0.4072697\ttotal: 759ms\tremaining: 63.3ms\n",
      "923:\tlearn: 0.4071512\ttotal: 760ms\tremaining: 62.5ms\n",
      "924:\tlearn: 0.4070562\ttotal: 761ms\tremaining: 61.7ms\n",
      "925:\tlearn: 0.4070090\ttotal: 761ms\tremaining: 60.8ms\n",
      "926:\tlearn: 0.4069937\ttotal: 762ms\tremaining: 60ms\n",
      "927:\tlearn: 0.4068885\ttotal: 763ms\tremaining: 59.2ms\n",
      "928:\tlearn: 0.4068837\ttotal: 763ms\tremaining: 58.3ms\n",
      "929:\tlearn: 0.4068181\ttotal: 764ms\tremaining: 57.5ms\n",
      "930:\tlearn: 0.4067802\ttotal: 765ms\tremaining: 56.7ms\n",
      "931:\tlearn: 0.4066420\ttotal: 766ms\tremaining: 55.9ms\n",
      "932:\tlearn: 0.4065941\ttotal: 766ms\tremaining: 55ms\n",
      "933:\tlearn: 0.4065291\ttotal: 767ms\tremaining: 54.2ms\n",
      "934:\tlearn: 0.4064688\ttotal: 768ms\tremaining: 53.4ms\n",
      "935:\tlearn: 0.4063236\ttotal: 768ms\tremaining: 52.5ms\n",
      "936:\tlearn: 0.4062619\ttotal: 769ms\tremaining: 51.7ms\n",
      "937:\tlearn: 0.4062503\ttotal: 770ms\tremaining: 50.9ms\n",
      "938:\tlearn: 0.4061906\ttotal: 771ms\tremaining: 50.1ms\n",
      "939:\tlearn: 0.4061506\ttotal: 771ms\tremaining: 49.2ms\n",
      "940:\tlearn: 0.4059781\ttotal: 772ms\tremaining: 48.4ms\n",
      "941:\tlearn: 0.4059735\ttotal: 773ms\tremaining: 47.6ms\n",
      "942:\tlearn: 0.4058769\ttotal: 774ms\tremaining: 46.8ms\n",
      "943:\tlearn: 0.4057811\ttotal: 775ms\tremaining: 45.9ms\n",
      "944:\tlearn: 0.4057723\ttotal: 775ms\tremaining: 45.1ms\n",
      "945:\tlearn: 0.4057664\ttotal: 776ms\tremaining: 44.3ms\n",
      "946:\tlearn: 0.4056525\ttotal: 776ms\tremaining: 43.4ms\n",
      "947:\tlearn: 0.4056366\ttotal: 777ms\tremaining: 42.6ms\n",
      "948:\tlearn: 0.4056086\ttotal: 778ms\tremaining: 41.8ms\n",
      "949:\tlearn: 0.4055713\ttotal: 778ms\tremaining: 41ms\n",
      "950:\tlearn: 0.4055483\ttotal: 779ms\tremaining: 40.1ms\n",
      "951:\tlearn: 0.4054741\ttotal: 780ms\tremaining: 39.3ms\n",
      "952:\tlearn: 0.4054261\ttotal: 780ms\tremaining: 38.5ms\n",
      "953:\tlearn: 0.4053784\ttotal: 781ms\tremaining: 37.7ms\n",
      "954:\tlearn: 0.4053265\ttotal: 782ms\tremaining: 36.8ms\n",
      "955:\tlearn: 0.4053208\ttotal: 782ms\tremaining: 36ms\n",
      "956:\tlearn: 0.4052602\ttotal: 783ms\tremaining: 35.2ms\n",
      "957:\tlearn: 0.4051556\ttotal: 784ms\tremaining: 34.4ms\n",
      "958:\tlearn: 0.4051444\ttotal: 784ms\tremaining: 33.5ms\n",
      "959:\tlearn: 0.4050044\ttotal: 785ms\tremaining: 32.7ms\n",
      "960:\tlearn: 0.4049637\ttotal: 785ms\tremaining: 31.9ms\n",
      "961:\tlearn: 0.4048598\ttotal: 786ms\tremaining: 31.1ms\n",
      "962:\tlearn: 0.4048139\ttotal: 787ms\tremaining: 30.2ms\n",
      "963:\tlearn: 0.4046753\ttotal: 788ms\tremaining: 29.4ms\n",
      "964:\tlearn: 0.4046388\ttotal: 788ms\tremaining: 28.6ms\n",
      "965:\tlearn: 0.4045122\ttotal: 789ms\tremaining: 27.8ms\n",
      "966:\tlearn: 0.4044277\ttotal: 790ms\tremaining: 27ms\n",
      "967:\tlearn: 0.4043287\ttotal: 791ms\tremaining: 26.1ms\n",
      "968:\tlearn: 0.4042778\ttotal: 791ms\tremaining: 25.3ms\n",
      "969:\tlearn: 0.4042318\ttotal: 792ms\tremaining: 24.5ms\n",
      "970:\tlearn: 0.4041608\ttotal: 793ms\tremaining: 23.7ms\n",
      "971:\tlearn: 0.4041554\ttotal: 793ms\tremaining: 22.8ms\n",
      "972:\tlearn: 0.4040542\ttotal: 794ms\tremaining: 22ms\n",
      "973:\tlearn: 0.4040026\ttotal: 795ms\tremaining: 21.2ms\n",
      "974:\tlearn: 0.4039760\ttotal: 795ms\tremaining: 20.4ms\n",
      "975:\tlearn: 0.4038671\ttotal: 796ms\tremaining: 19.6ms\n",
      "976:\tlearn: 0.4037971\ttotal: 797ms\tremaining: 18.8ms\n",
      "977:\tlearn: 0.4037289\ttotal: 797ms\tremaining: 17.9ms\n",
      "978:\tlearn: 0.4036846\ttotal: 798ms\tremaining: 17.1ms\n",
      "979:\tlearn: 0.4035877\ttotal: 799ms\tremaining: 16.3ms\n",
      "980:\tlearn: 0.4035052\ttotal: 799ms\tremaining: 15.5ms\n",
      "981:\tlearn: 0.4034478\ttotal: 800ms\tremaining: 14.7ms\n",
      "982:\tlearn: 0.4034127\ttotal: 801ms\tremaining: 13.8ms\n",
      "983:\tlearn: 0.4033622\ttotal: 802ms\tremaining: 13ms\n",
      "984:\tlearn: 0.4032910\ttotal: 802ms\tremaining: 12.2ms\n",
      "985:\tlearn: 0.4032543\ttotal: 803ms\tremaining: 11.4ms\n",
      "986:\tlearn: 0.4032156\ttotal: 804ms\tremaining: 10.6ms\n",
      "987:\tlearn: 0.4031655\ttotal: 804ms\tremaining: 9.77ms\n",
      "988:\tlearn: 0.4031396\ttotal: 805ms\tremaining: 8.95ms\n",
      "989:\tlearn: 0.4030708\ttotal: 806ms\tremaining: 8.14ms\n",
      "990:\tlearn: 0.4030002\ttotal: 806ms\tremaining: 7.32ms\n",
      "991:\tlearn: 0.4029745\ttotal: 807ms\tremaining: 6.51ms\n",
      "992:\tlearn: 0.4029332\ttotal: 807ms\tremaining: 5.69ms\n",
      "993:\tlearn: 0.4029078\ttotal: 808ms\tremaining: 4.88ms\n",
      "994:\tlearn: 0.4028482\ttotal: 809ms\tremaining: 4.06ms\n",
      "995:\tlearn: 0.4027624\ttotal: 809ms\tremaining: 3.25ms\n",
      "996:\tlearn: 0.4027226\ttotal: 810ms\tremaining: 2.44ms\n",
      "997:\tlearn: 0.4025634\ttotal: 811ms\tremaining: 1.63ms\n",
      "998:\tlearn: 0.4025173\ttotal: 812ms\tremaining: 812us\n",
      "999:\tlearn: 0.4024713\ttotal: 812ms\tremaining: 0us\n"
     ]
    },
    {
     "data": {
      "text/plain": [
       "(0.8024691358024691, 0.5555555555555556)"
      ]
     },
     "execution_count": 394,
     "metadata": {},
     "output_type": "execute_result"
    }
   ],
   "source": [
    "from catboost import CatBoostClassifier\n",
    "\n",
    "catbc = CatBoostClassifier()\n",
    "catbc.fit(train_x_trans, train_y_trans)\n",
    "train_y_trans_preds = catbc.predict(train_x_trans)\n",
    "cv_y_trans_preds = catbc.predict(cv_x_trans)\n",
    "train_auc_trans = accuracy_score(train_y_trans, train_y_trans_preds)\n",
    "cv_auc_trans = accuracy_score(cv_y_trans, cv_y_trans_preds)\n",
    "train_auc_trans, cv_auc_trans"
   ]
  },
  {
   "cell_type": "code",
   "execution_count": null,
   "metadata": {},
   "outputs": [],
   "source": []
  },
  {
   "cell_type": "code",
   "execution_count": null,
   "metadata": {},
   "outputs": [],
   "source": []
  },
  {
   "cell_type": "code",
   "execution_count": 186,
   "metadata": {},
   "outputs": [
    {
     "name": "stderr",
     "output_type": "stream",
     "text": [
      "[Parallel(n_jobs=1)]: Using backend SequentialBackend with 1 concurrent workers.\n",
      "[Parallel(n_jobs=1)]: Done   1 out of   1 | elapsed:    0.0s remaining:    0.0s\n",
      "[Parallel(n_jobs=1)]: Done   6 out of   6 | elapsed:    0.0s finished\n",
      "\n",
      "[2021-03-04 12:11:43] Features: 1/6 -- score: 0.6702127659574468[Parallel(n_jobs=1)]: Using backend SequentialBackend with 1 concurrent workers.\n",
      "[Parallel(n_jobs=1)]: Done   1 out of   1 | elapsed:    0.0s remaining:    0.0s\n",
      "[Parallel(n_jobs=1)]: Done   5 out of   5 | elapsed:    0.0s finished\n",
      "[Parallel(n_jobs=1)]: Using backend SequentialBackend with 1 concurrent workers.\n",
      "[Parallel(n_jobs=1)]: Done   1 out of   1 | elapsed:    0.0s remaining:    0.0s\n",
      "[Parallel(n_jobs=1)]: Done   1 out of   1 | elapsed:    0.0s finished\n",
      "\n",
      "[2021-03-04 12:11:43] Features: 2/6 -- score: 0.7446808510638298[Parallel(n_jobs=1)]: Using backend SequentialBackend with 1 concurrent workers.\n",
      "[Parallel(n_jobs=1)]: Done   1 out of   1 | elapsed:    0.0s remaining:    0.0s\n",
      "[Parallel(n_jobs=1)]: Done   4 out of   4 | elapsed:    0.0s finished\n",
      "[Parallel(n_jobs=1)]: Using backend SequentialBackend with 1 concurrent workers.\n",
      "[Parallel(n_jobs=1)]: Done   1 out of   1 | elapsed:    0.0s remaining:    0.0s\n",
      "[Parallel(n_jobs=1)]: Done   2 out of   2 | elapsed:    0.0s finished\n",
      "\n",
      "[2021-03-04 12:11:43] Features: 3/6 -- score: 0.8191489361702128[Parallel(n_jobs=1)]: Using backend SequentialBackend with 1 concurrent workers.\n",
      "[Parallel(n_jobs=1)]: Done   1 out of   1 | elapsed:    0.0s remaining:    0.0s\n",
      "[Parallel(n_jobs=1)]: Done   3 out of   3 | elapsed:    0.0s finished\n",
      "[Parallel(n_jobs=1)]: Using backend SequentialBackend with 1 concurrent workers.\n",
      "[Parallel(n_jobs=1)]: Done   1 out of   1 | elapsed:    0.0s remaining:    0.0s\n",
      "[Parallel(n_jobs=1)]: Done   3 out of   3 | elapsed:    0.0s finished\n",
      "\n",
      "[2021-03-04 12:11:43] Features: 4/6 -- score: 0.8723404255319149[Parallel(n_jobs=1)]: Using backend SequentialBackend with 1 concurrent workers.\n",
      "[Parallel(n_jobs=1)]: Done   1 out of   1 | elapsed:    0.0s remaining:    0.0s\n",
      "[Parallel(n_jobs=1)]: Done   2 out of   2 | elapsed:    0.0s finished\n",
      "[Parallel(n_jobs=1)]: Using backend SequentialBackend with 1 concurrent workers.\n",
      "[Parallel(n_jobs=1)]: Done   1 out of   1 | elapsed:    0.0s remaining:    0.0s\n",
      "[Parallel(n_jobs=1)]: Done   4 out of   4 | elapsed:    0.0s finished\n",
      "\n",
      "[2021-03-04 12:11:43] Features: 5/6 -- score: 0.925531914893617[Parallel(n_jobs=1)]: Using backend SequentialBackend with 1 concurrent workers.\n",
      "[Parallel(n_jobs=1)]: Done   1 out of   1 | elapsed:    0.0s remaining:    0.0s\n",
      "[Parallel(n_jobs=1)]: Done   1 out of   1 | elapsed:    0.0s finished\n",
      "[Parallel(n_jobs=1)]: Using backend SequentialBackend with 1 concurrent workers.\n",
      "[Parallel(n_jobs=1)]: Done   1 out of   1 | elapsed:    0.0s remaining:    0.0s\n",
      "[Parallel(n_jobs=1)]: Done   5 out of   5 | elapsed:    0.0s finished\n",
      "\n",
      "[2021-03-04 12:11:43] Features: 6/6 -- score: 0.9574468085106383"
     ]
    },
    {
     "data": {
      "text/plain": [
       "SequentialFeatureSelector(cv=0,\n",
       "                          estimator=KNeighborsClassifier(n_neighbors=41,\n",
       "                                                         weights='distance'),\n",
       "                          floating=True, k_features='best', scoring='accuracy',\n",
       "                          verbose=2)"
      ]
     },
     "execution_count": 186,
     "metadata": {},
     "output_type": "execute_result"
    }
   ],
   "source": [
    "from mlxtend.feature_selection import SequentialFeatureSelector\n",
    "from sklearn.model_selection import StratifiedKFold\n",
    "\n",
    "skfold = StratifiedKFold(n_splits=10, shuffle=True, random_state=0)\n",
    "\n",
    "classifier = KNeighborsClassifier(n_neighbors=41, weights=\"distance\")\n",
    "feature_names = ['X1', 'X2', 'X3', 'X4', 'X5', 'X6']\n",
    "sfs = SequentialFeatureSelector(classifier, k_features=\"best\", forward=True, floating=True, scoring='accuracy',cv=0, verbose=2)\n",
    "sfs.fit(train_x, train_y, custom_feature_names=feature_names)"
   ]
  },
  {
   "cell_type": "code",
   "execution_count": 187,
   "metadata": {},
   "outputs": [
    {
     "data": {
      "text/plain": [
       "{1: {'feature_idx': (0,),\n",
       "  'cv_scores': array([0.67021277]),\n",
       "  'avg_score': 0.6702127659574468,\n",
       "  'feature_names': ('X1',)},\n",
       " 2: {'feature_idx': (0, 2),\n",
       "  'cv_scores': array([0.74468085]),\n",
       "  'avg_score': 0.7446808510638298,\n",
       "  'feature_names': ('X1', 'X3')},\n",
       " 3: {'feature_idx': (0, 2, 5),\n",
       "  'cv_scores': array([0.81914894]),\n",
       "  'avg_score': 0.8191489361702128,\n",
       "  'feature_names': ('X1', 'X3', 'X6')},\n",
       " 4: {'feature_idx': (0, 2, 3, 5),\n",
       "  'cv_scores': array([0.87234043]),\n",
       "  'avg_score': 0.8723404255319149,\n",
       "  'feature_names': ('X1', 'X3', 'X4', 'X6')},\n",
       " 5: {'feature_idx': (0, 1, 2, 3, 5),\n",
       "  'cv_scores': array([0.92553191]),\n",
       "  'avg_score': 0.925531914893617,\n",
       "  'feature_names': ('X1', 'X2', 'X3', 'X4', 'X6')},\n",
       " 6: {'feature_idx': (0, 1, 2, 3, 4, 5),\n",
       "  'cv_scores': array([0.95744681]),\n",
       "  'avg_score': 0.9574468085106383,\n",
       "  'feature_names': ('X1', 'X2', 'X3', 'X4', 'X5', 'X6')}}"
      ]
     },
     "execution_count": 187,
     "metadata": {},
     "output_type": "execute_result"
    }
   ],
   "source": [
    "sfs.subsets_"
   ]
  },
  {
   "cell_type": "code",
   "execution_count": 193,
   "metadata": {},
   "outputs": [
    {
     "name": "stderr",
     "output_type": "stream",
     "text": [
      "[Parallel(n_jobs=1)]: Using backend SequentialBackend with 1 concurrent workers.\n",
      "[Parallel(n_jobs=1)]: Done   1 out of   1 | elapsed:    0.0s remaining:    0.0s\n",
      "[Parallel(n_jobs=1)]: Done   6 out of   6 | elapsed:    0.0s finished\n",
      "\n",
      "[2021-03-04 12:22:55] Features: 1/6 -- score: 0.6702127659574468[Parallel(n_jobs=1)]: Using backend SequentialBackend with 1 concurrent workers.\n",
      "[Parallel(n_jobs=1)]: Done   1 out of   1 | elapsed:    0.0s remaining:    0.0s\n",
      "[Parallel(n_jobs=1)]: Done   5 out of   5 | elapsed:    0.0s finished\n",
      "[Parallel(n_jobs=1)]: Using backend SequentialBackend with 1 concurrent workers.\n",
      "[Parallel(n_jobs=1)]: Done   1 out of   1 | elapsed:    0.0s remaining:    0.0s\n",
      "[Parallel(n_jobs=1)]: Done   1 out of   1 | elapsed:    0.0s finished\n",
      "\n",
      "[2021-03-04 12:22:55] Features: 2/6 -- score: 0.7127659574468085[Parallel(n_jobs=1)]: Using backend SequentialBackend with 1 concurrent workers.\n",
      "[Parallel(n_jobs=1)]: Done   1 out of   1 | elapsed:    0.0s remaining:    0.0s\n",
      "[Parallel(n_jobs=1)]: Done   4 out of   4 | elapsed:    0.0s finished\n",
      "[Parallel(n_jobs=1)]: Using backend SequentialBackend with 1 concurrent workers.\n",
      "[Parallel(n_jobs=1)]: Done   1 out of   1 | elapsed:    0.0s remaining:    0.0s\n",
      "[Parallel(n_jobs=1)]: Done   2 out of   2 | elapsed:    0.0s finished\n",
      "\n",
      "[2021-03-04 12:22:55] Features: 3/6 -- score: 0.723404255319149[Parallel(n_jobs=1)]: Using backend SequentialBackend with 1 concurrent workers.\n",
      "[Parallel(n_jobs=1)]: Done   1 out of   1 | elapsed:    0.0s remaining:    0.0s\n",
      "[Parallel(n_jobs=1)]: Done   3 out of   3 | elapsed:    0.0s finished\n",
      "[Parallel(n_jobs=1)]: Using backend SequentialBackend with 1 concurrent workers.\n",
      "[Parallel(n_jobs=1)]: Done   1 out of   1 | elapsed:    0.0s remaining:    0.0s\n",
      "[Parallel(n_jobs=1)]: Done   3 out of   3 | elapsed:    0.0s finished\n",
      "\n",
      "[2021-03-04 12:22:55] Features: 4/6 -- score: 0.7340425531914894[Parallel(n_jobs=1)]: Using backend SequentialBackend with 1 concurrent workers.\n",
      "[Parallel(n_jobs=1)]: Done   1 out of   1 | elapsed:    0.0s remaining:    0.0s\n",
      "[Parallel(n_jobs=1)]: Done   2 out of   2 | elapsed:    0.0s finished\n",
      "[Parallel(n_jobs=1)]: Using backend SequentialBackend with 1 concurrent workers.\n",
      "[Parallel(n_jobs=1)]: Done   1 out of   1 | elapsed:    0.0s remaining:    0.0s\n",
      "[Parallel(n_jobs=1)]: Done   4 out of   4 | elapsed:    0.0s finished\n",
      "\n",
      "[2021-03-04 12:22:55] Features: 5/6 -- score: 0.7340425531914894[Parallel(n_jobs=1)]: Using backend SequentialBackend with 1 concurrent workers.\n",
      "[Parallel(n_jobs=1)]: Done   1 out of   1 | elapsed:    0.0s remaining:    0.0s\n",
      "[Parallel(n_jobs=1)]: Done   1 out of   1 | elapsed:    0.0s finished\n",
      "[Parallel(n_jobs=1)]: Using backend SequentialBackend with 1 concurrent workers.\n",
      "[Parallel(n_jobs=1)]: Done   1 out of   1 | elapsed:    0.0s remaining:    0.0s\n",
      "[Parallel(n_jobs=1)]: Done   5 out of   5 | elapsed:    0.0s finished\n",
      "\n",
      "[2021-03-04 12:22:55] Features: 6/6 -- score: 0.723404255319149"
     ]
    },
    {
     "data": {
      "text/plain": [
       "SequentialFeatureSelector(cv=0,\n",
       "                          estimator=SVC(class_weight='balanced',\n",
       "                                        random_state=0),\n",
       "                          floating=True, k_features='best', scoring='accuracy',\n",
       "                          verbose=2)"
      ]
     },
     "execution_count": 193,
     "metadata": {},
     "output_type": "execute_result"
    }
   ],
   "source": [
    "from sklearn.svm import SVC\n",
    "\n",
    "classifier = SVC(class_weight='balanced', random_state=0)\n",
    "sfs = SequentialFeatureSelector(classifier, k_features=\"best\", forward=True, floating=True, scoring='accuracy',cv=0, verbose=2)\n",
    "sfs.fit(train_x, train_y, custom_feature_names=feature_names)"
   ]
  },
  {
   "cell_type": "code",
   "execution_count": 194,
   "metadata": {},
   "outputs": [
    {
     "data": {
      "text/plain": [
       "{1: {'feature_idx': (0,),\n",
       "  'cv_scores': array([0.67021277]),\n",
       "  'avg_score': 0.6702127659574468,\n",
       "  'feature_names': ('X1',)},\n",
       " 2: {'feature_idx': (0, 5),\n",
       "  'cv_scores': array([0.71276596]),\n",
       "  'avg_score': 0.7127659574468085,\n",
       "  'feature_names': ('X1', 'X6')},\n",
       " 3: {'feature_idx': (0, 3, 5),\n",
       "  'cv_scores': array([0.72340426]),\n",
       "  'avg_score': 0.723404255319149,\n",
       "  'feature_names': ('X1', 'X4', 'X6')},\n",
       " 4: {'feature_idx': (0, 2, 3, 5),\n",
       "  'cv_scores': array([0.73404255]),\n",
       "  'avg_score': 0.7340425531914894,\n",
       "  'feature_names': ('X1', 'X3', 'X4', 'X6')},\n",
       " 5: {'feature_idx': (0, 1, 2, 3, 5),\n",
       "  'cv_scores': array([0.73404255]),\n",
       "  'avg_score': 0.7340425531914894,\n",
       "  'feature_names': ('X1', 'X2', 'X3', 'X4', 'X6')},\n",
       " 6: {'feature_idx': (0, 1, 2, 3, 4, 5),\n",
       "  'cv_scores': array([0.72340426]),\n",
       "  'avg_score': 0.723404255319149,\n",
       "  'feature_names': ('X1', 'X2', 'X3', 'X4', 'X5', 'X6')}}"
      ]
     },
     "execution_count": 194,
     "metadata": {},
     "output_type": "execute_result"
    }
   ],
   "source": [
    "sfs.subsets_"
   ]
  },
  {
   "cell_type": "code",
   "execution_count": 195,
   "metadata": {},
   "outputs": [
    {
     "data": {
      "text/html": [
       "<div>\n",
       "<style scoped>\n",
       "    .dataframe tbody tr th:only-of-type {\n",
       "        vertical-align: middle;\n",
       "    }\n",
       "\n",
       "    .dataframe tbody tr th {\n",
       "        vertical-align: top;\n",
       "    }\n",
       "\n",
       "    .dataframe thead th {\n",
       "        text-align: right;\n",
       "    }\n",
       "</style>\n",
       "<table border=\"1\" class=\"dataframe\">\n",
       "  <thead>\n",
       "    <tr style=\"text-align: right;\">\n",
       "      <th></th>\n",
       "      <th>Y</th>\n",
       "      <th>X1</th>\n",
       "      <th>X2</th>\n",
       "      <th>X3</th>\n",
       "      <th>X4</th>\n",
       "      <th>X5</th>\n",
       "      <th>X6</th>\n",
       "    </tr>\n",
       "  </thead>\n",
       "  <tbody>\n",
       "    <tr>\n",
       "      <th>Y</th>\n",
       "      <td>1.000000</td>\n",
       "      <td>0.280160</td>\n",
       "      <td>-0.024274</td>\n",
       "      <td>0.150838</td>\n",
       "      <td>0.064415</td>\n",
       "      <td>0.224522</td>\n",
       "      <td>0.167669</td>\n",
       "    </tr>\n",
       "    <tr>\n",
       "      <th>X1</th>\n",
       "      <td>0.280160</td>\n",
       "      <td>1.000000</td>\n",
       "      <td>0.059797</td>\n",
       "      <td>0.283358</td>\n",
       "      <td>0.087541</td>\n",
       "      <td>0.432772</td>\n",
       "      <td>0.411873</td>\n",
       "    </tr>\n",
       "    <tr>\n",
       "      <th>X2</th>\n",
       "      <td>-0.024274</td>\n",
       "      <td>0.059797</td>\n",
       "      <td>1.000000</td>\n",
       "      <td>0.184129</td>\n",
       "      <td>0.114838</td>\n",
       "      <td>0.039996</td>\n",
       "      <td>-0.062205</td>\n",
       "    </tr>\n",
       "    <tr>\n",
       "      <th>X3</th>\n",
       "      <td>0.150838</td>\n",
       "      <td>0.283358</td>\n",
       "      <td>0.184129</td>\n",
       "      <td>1.000000</td>\n",
       "      <td>0.302618</td>\n",
       "      <td>0.358397</td>\n",
       "      <td>0.203750</td>\n",
       "    </tr>\n",
       "    <tr>\n",
       "      <th>X4</th>\n",
       "      <td>0.064415</td>\n",
       "      <td>0.087541</td>\n",
       "      <td>0.114838</td>\n",
       "      <td>0.302618</td>\n",
       "      <td>1.000000</td>\n",
       "      <td>0.293115</td>\n",
       "      <td>0.215888</td>\n",
       "    </tr>\n",
       "    <tr>\n",
       "      <th>X5</th>\n",
       "      <td>0.224522</td>\n",
       "      <td>0.432772</td>\n",
       "      <td>0.039996</td>\n",
       "      <td>0.358397</td>\n",
       "      <td>0.293115</td>\n",
       "      <td>1.000000</td>\n",
       "      <td>0.320195</td>\n",
       "    </tr>\n",
       "    <tr>\n",
       "      <th>X6</th>\n",
       "      <td>0.167669</td>\n",
       "      <td>0.411873</td>\n",
       "      <td>-0.062205</td>\n",
       "      <td>0.203750</td>\n",
       "      <td>0.215888</td>\n",
       "      <td>0.320195</td>\n",
       "      <td>1.000000</td>\n",
       "    </tr>\n",
       "  </tbody>\n",
       "</table>\n",
       "</div>"
      ],
      "text/plain": [
       "           Y        X1        X2        X3        X4        X5        X6\n",
       "Y   1.000000  0.280160 -0.024274  0.150838  0.064415  0.224522  0.167669\n",
       "X1  0.280160  1.000000  0.059797  0.283358  0.087541  0.432772  0.411873\n",
       "X2 -0.024274  0.059797  1.000000  0.184129  0.114838  0.039996 -0.062205\n",
       "X3  0.150838  0.283358  0.184129  1.000000  0.302618  0.358397  0.203750\n",
       "X4  0.064415  0.087541  0.114838  0.302618  1.000000  0.293115  0.215888\n",
       "X5  0.224522  0.432772  0.039996  0.358397  0.293115  1.000000  0.320195\n",
       "X6  0.167669  0.411873 -0.062205  0.203750  0.215888  0.320195  1.000000"
      ]
     },
     "execution_count": 195,
     "metadata": {},
     "output_type": "execute_result"
    }
   ],
   "source": [
    "train_data_copy.corr()"
   ]
  },
  {
   "cell_type": "code",
   "execution_count": null,
   "metadata": {},
   "outputs": [],
   "source": []
  },
  {
   "cell_type": "markdown",
   "metadata": {},
   "source": [
    "### Final Model"
   ]
  },
  {
   "cell_type": "code",
   "execution_count": 412,
   "metadata": {},
   "outputs": [
    {
     "data": {
      "text/plain": [
       "((94, 6), (32, 6), (94,), (32,))"
      ]
     },
     "execution_count": 412,
     "metadata": {},
     "output_type": "execute_result"
    }
   ],
   "source": [
    "train_x.shape, cv_x.shape, train_y.shape, cv_y.shape"
   ]
  },
  {
   "cell_type": "code",
   "execution_count": 423,
   "metadata": {},
   "outputs": [
    {
     "name": "stdout",
     "output_type": "stream",
     "text": [
      "Accuracy on Train:0.87 and CV:0.75\n"
     ]
    }
   ],
   "source": [
    "classfier = RandomForestClassifier()\n",
    "classfier.fit(train_x.loc[:,['X1', 'X3', 'X4', 'X6']], train_y)\n",
    "train_y_predictions = classfier.predict(train_x.loc[:,['X1', 'X3', 'X4', 'X6']])\n",
    "cv_y_predictions = classfier.predict(cv_x.loc[:,['X1', 'X3', 'X4', 'X6']])\n",
    "train_accuracy = np.round(accuracy_score(train_y, train_y_predictions), 2)\n",
    "cv_accuracy = np.round(accuracy_score(cv_y, cv_y_predictions), 2)\n",
    "print(\"Accuracy on Train:{} and CV:{}\".format(train_accuracy, cv_accuracy))"
   ]
  },
  {
   "cell_type": "code",
   "execution_count": 425,
   "metadata": {},
   "outputs": [
    {
     "name": "stdout",
     "output_type": "stream",
     "text": [
      "Accuracy on Train:0.87 and CV:0.78\n"
     ]
    }
   ],
   "source": [
    "classfier = DecisionTreeClassifier()\n",
    "classfier.fit(train_x.loc[:,['X1', 'X3', 'X4', 'X6']], train_y)\n",
    "train_y_predictions = classfier.predict(train_x.loc[:,['X1', 'X3', 'X4', 'X6']])\n",
    "cv_y_predictions = classfier.predict(cv_x.loc[:,['X1', 'X3', 'X4', 'X6']])\n",
    "train_accuracy = np.round(accuracy_score(train_y, train_y_predictions), 2)\n",
    "cv_accuracy = np.round(accuracy_score(cv_y, cv_y_predictions), 2)\n",
    "print(\"Accuracy on Train:{} and CV:{}\".format(train_accuracy, cv_accuracy))"
   ]
  },
  {
   "cell_type": "markdown",
   "metadata": {},
   "source": [
    "#### parameterization"
   ]
  },
  {
   "cell_type": "code",
   "execution_count": null,
   "metadata": {},
   "outputs": [],
   "source": []
  },
  {
   "cell_type": "code",
   "execution_count": null,
   "metadata": {},
   "outputs": [],
   "source": []
  },
  {
   "cell_type": "code",
   "execution_count": null,
   "metadata": {},
   "outputs": [],
   "source": []
  },
  {
   "cell_type": "code",
   "execution_count": null,
   "metadata": {},
   "outputs": [],
   "source": []
  },
  {
   "cell_type": "code",
   "execution_count": null,
   "metadata": {},
   "outputs": [],
   "source": []
  },
  {
   "cell_type": "raw",
   "metadata": {},
   "source": [
    "Y = target attribute (Y) with values indicating 0 (unhappy) and 1 (happy) customers\n",
    "X1 = my order was delivered on time\n",
    "X2 = contents of my order was as I expected\n",
    "X3 = I ordered everything I wanted to order\n",
    "X4 = I paid a good price for my order\n",
    "X5 = I am satisfied with my courier\n",
    "X6 = the app makes ordering easy for me"
   ]
  },
  {
   "cell_type": "code",
   "execution_count": null,
   "metadata": {},
   "outputs": [],
   "source": []
  },
  {
   "cell_type": "code",
   "execution_count": null,
   "metadata": {},
   "outputs": [],
   "source": []
  },
  {
   "cell_type": "code",
   "execution_count": null,
   "metadata": {},
   "outputs": [],
   "source": []
  },
  {
   "cell_type": "code",
   "execution_count": null,
   "metadata": {},
   "outputs": [],
   "source": []
  },
  {
   "cell_type": "code",
   "execution_count": null,
   "metadata": {},
   "outputs": [],
   "source": []
  }
 ],
 "metadata": {
  "kernelspec": {
   "display_name": "Python 3",
   "language": "python",
   "name": "python3"
  },
  "language_info": {
   "codemirror_mode": {
    "name": "ipython",
    "version": 3
   },
   "file_extension": ".py",
   "mimetype": "text/x-python",
   "name": "python",
   "nbconvert_exporter": "python",
   "pygments_lexer": "ipython3",
   "version": "3.8.3"
  }
 },
 "nbformat": 4,
 "nbformat_minor": 4
}
